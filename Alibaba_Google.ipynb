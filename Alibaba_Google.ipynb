{
 "cells": [
  {
   "cell_type": "code",
   "execution_count": 1,
   "metadata": {},
   "outputs": [],
   "source": [
    "import pandas as pd\n",
    "import numpy as np\n",
    "from statsmodels.tsa.arima_model import ARIMA"
   ]
  },
  {
   "cell_type": "markdown",
   "metadata": {},
   "source": [
    "# Alibaba data\n",
    "### Write more"
   ]
  },
  {
   "cell_type": "code",
   "execution_count": 2,
   "metadata": {
    "scrolled": true
   },
   "outputs": [
    {
     "data": {
      "text/html": [
       "<div>\n",
       "<style scoped>\n",
       "    .dataframe tbody tr th:only-of-type {\n",
       "        vertical-align: middle;\n",
       "    }\n",
       "\n",
       "    .dataframe tbody tr th {\n",
       "        vertical-align: top;\n",
       "    }\n",
       "\n",
       "    .dataframe thead th {\n",
       "        text-align: right;\n",
       "    }\n",
       "</style>\n",
       "<table border=\"1\" class=\"dataframe\">\n",
       "  <thead>\n",
       "    <tr style=\"text-align: right;\">\n",
       "      <th></th>\n",
       "      <th>0</th>\n",
       "    </tr>\n",
       "  </thead>\n",
       "  <tbody>\n",
       "    <tr>\n",
       "      <th>0</th>\n",
       "      <td>0.000042</td>\n",
       "    </tr>\n",
       "    <tr>\n",
       "      <th>1</th>\n",
       "      <td>0.000122</td>\n",
       "    </tr>\n",
       "    <tr>\n",
       "      <th>2</th>\n",
       "      <td>0.000047</td>\n",
       "    </tr>\n",
       "    <tr>\n",
       "      <th>3</th>\n",
       "      <td>0.000042</td>\n",
       "    </tr>\n",
       "    <tr>\n",
       "      <th>4</th>\n",
       "      <td>0.000045</td>\n",
       "    </tr>\n",
       "  </tbody>\n",
       "</table>\n",
       "</div>"
      ],
      "text/plain": [
       "          0\n",
       "0  0.000042\n",
       "1  0.000122\n",
       "2  0.000047\n",
       "3  0.000042\n",
       "4  0.000045"
      ]
     },
     "execution_count": 2,
     "metadata": {},
     "output_type": "execute_result"
    }
   ],
   "source": [
    "alibaba_data=pd.read_pickle('Alibaba_Google.pkl')\n",
    "alibaba_data=alibaba_data.reset_index(drop=True)\n",
    "alibaba_data=alibaba_data[0:9654]\n",
    "endvalue=alibaba_data.shape[0]\n",
    "alibaba_data.head()"
   ]
  },
  {
   "cell_type": "markdown",
   "metadata": {},
   "source": [
    "# Google Data\n",
    "### Write more"
   ]
  },
  {
   "cell_type": "code",
   "execution_count": 3,
   "metadata": {
    "scrolled": true
   },
   "outputs": [
    {
     "data": {
      "text/plain": [
       "1346495      0.125\n",
       "1379565    0.05304\n",
       "1515065     0.1226\n",
       "1633455     0.1648\n",
       "1754288    0.08936\n",
       "Name: maxCPU_usage, dtype: object"
      ]
     },
     "execution_count": 3,
     "metadata": {},
     "output_type": "execute_result"
    }
   ],
   "source": [
    "google_data=pd.read_pickle('Google_Alibaba.pkl')\n",
    "google_data=google_data['maxCPU_usage']\n",
    "google_data.tail()"
   ]
  },
  {
   "cell_type": "code",
   "execution_count": 4,
   "metadata": {},
   "outputs": [
    {
     "data": {
      "text/plain": [
       "(9654,)"
      ]
     },
     "execution_count": 4,
     "metadata": {},
     "output_type": "execute_result"
    }
   ],
   "source": [
    "google_data=np.array(google_data,dtype=float)\n",
    "M=np.amin(google_data)\n",
    "google_data.shape"
   ]
  },
  {
   "cell_type": "code",
   "execution_count": 5,
   "metadata": {},
   "outputs": [
    {
     "data": {
      "text/plain": [
       "(9654,)"
      ]
     },
     "execution_count": 5,
     "metadata": {},
     "output_type": "execute_result"
    }
   ],
   "source": [
    "alibaba_data=np.array(alibaba_data,dtype=float)\n",
    "alibaba_data=np.ravel(alibaba_data)\n",
    "m=np.amin(alibaba_data)\n",
    "alibaba_data.shape"
   ]
  },
  {
   "cell_type": "markdown",
   "metadata": {},
   "source": [
    "## Removing the NaN values"
   ]
  },
  {
   "cell_type": "code",
   "execution_count": 6,
   "metadata": {},
   "outputs": [],
   "source": [
    "alibaba_data=np.nan_to_num(alibaba_data,nan=m)"
   ]
  },
  {
   "cell_type": "code",
   "execution_count": 7,
   "metadata": {},
   "outputs": [],
   "source": [
    "google_data=np.nan_to_num(google_data,nan=M)"
   ]
  },
  {
   "cell_type": "markdown",
   "metadata": {},
   "source": [
    "## Combining the data"
   ]
  },
  {
   "cell_type": "code",
   "execution_count": 8,
   "metadata": {},
   "outputs": [],
   "source": [
    "combined=np.append(alibaba_data,google_data)"
   ]
  },
  {
   "cell_type": "markdown",
   "metadata": {},
   "source": [
    "## Generating Training and Test data\n",
    "### Train and Test data is generated according to the shape of the traces"
   ]
  },
  {
   "cell_type": "code",
   "execution_count": 9,
   "metadata": {},
   "outputs": [],
   "source": [
    "train= combined[0:endvalue]"
   ]
  },
  {
   "cell_type": "markdown",
   "metadata": {},
   "source": [
    "## Function to get valid list"
   ]
  },
  {
   "cell_type": "code",
   "execution_count": 10,
   "metadata": {},
   "outputs": [],
   "source": [
    "def try_forecast_model(p,q,d):\n",
    "    temp=[]\n",
    "    model=ARIMA(train,order=(p,q,d))\n",
    "    try:\n",
    "        model_fit=model.fit(disp=0,transparams=False)\n",
    "    except:\n",
    "        temp.append(p)\n",
    "        temp.append(q)\n",
    "        temp.append(d)\n",
    "        invalid_list.append(temp)"
   ]
  },
  {
   "cell_type": "markdown",
   "metadata": {},
   "source": [
    "## Declaring 'p','q','d' values for the model\n",
    "### These values are being declared to do a sort of grid search"
   ]
  },
  {
   "cell_type": "code",
   "execution_count": 11,
   "metadata": {},
   "outputs": [],
   "source": [
    "AR_parameter=[8]\n",
    "MA_parameter=[1]\n",
    "difference=[5]"
   ]
  },
  {
   "cell_type": "code",
   "execution_count": 12,
   "metadata": {},
   "outputs": [],
   "source": [
    "total_list=[]\n",
    "invalid_list=[]\n",
    "for p in AR_parameter:\n",
    "    for q in MA_parameter:\n",
    "        for d in difference:\n",
    "            initial_temp=[]\n",
    "            initial_temp.append(p)\n",
    "            initial_temp.append(q)\n",
    "            initial_temp.append(d)\n",
    "            total_list.append(initial_temp)\n",
    "            try_forecast_model(p,q,d)"
   ]
  },
  {
   "cell_type": "markdown",
   "metadata": {},
   "source": [
    "## Finding a valid list of hyperparameters"
   ]
  },
  {
   "cell_type": "code",
   "execution_count": 13,
   "metadata": {},
   "outputs": [],
   "source": [
    "valid_list = []\n",
    "for list in total_list:\n",
    "    if list not in invalid_list:\n",
    "        valid_list.append(list) "
   ]
  },
  {
   "cell_type": "markdown",
   "metadata": {},
   "source": [
    "## Forecasting Model"
   ]
  },
  {
   "cell_type": "code",
   "execution_count": 14,
   "metadata": {},
   "outputs": [
    {
     "data": {
      "text/plain": [
       "[]"
      ]
     },
     "execution_count": 14,
     "metadata": {},
     "output_type": "execute_result"
    }
   ],
   "source": [
    "valid_list"
   ]
  },
  {
   "cell_type": "code",
   "execution_count": 15,
   "metadata": {},
   "outputs": [],
   "source": [
    "rmse_accuracy=[]\n",
    "predicted=[]\n",
    "mape=[]\n",
    "def forecast_model(p,q,d):\n",
    "    temp=[]\n",
    "    model=ARIMA(train,order=(p,q,d))\n",
    "    model_fit=model.fit(disp=0)\n",
    "    end_values=[10,15,50,100]\n",
    "    for value in end_values:\n",
    "        forecast=model_fit.predict(start=endvalue,end=endvalue+value)\n",
    "        predicted.append(forecast)\n",
    "        actual_values=combined[endvalue:endvalue+value+1]\n",
    "        accuracy=np.mean((forecast - actual_values)**2)**.5\n",
    "        rmse_accuracy.append(accuracy)\n",
    "        acc = np.mean(np.abs(forecast - actual_values)/np.abs(actual_values))\n",
    "        mape.append(acc)"
   ]
  },
  {
   "cell_type": "markdown",
   "metadata": {},
   "source": [
    "### Running the model"
   ]
  },
  {
   "cell_type": "code",
   "execution_count": 16,
   "metadata": {},
   "outputs": [
    {
     "name": "stderr",
     "output_type": "stream",
     "text": [
      "/home/abhilash/anaconda3/lib/python3.7/site-packages/statsmodels/base/model.py:492: HessianInversionWarning: Inverting hessian failed, no bse or cov_params available\n",
      "  'available', HessianInversionWarning)\n",
      "/home/abhilash/anaconda3/lib/python3.7/site-packages/statsmodels/base/model.py:512: ConvergenceWarning: Maximum Likelihood optimization failed to converge. Check mle_retvals\n",
      "  \"Check mle_retvals\", ConvergenceWarning)\n",
      "/home/abhilash/anaconda3/lib/python3.7/site-packages/statsmodels/base/model.py:492: HessianInversionWarning: Inverting hessian failed, no bse or cov_params available\n",
      "  'available', HessianInversionWarning)\n",
      "/home/abhilash/anaconda3/lib/python3.7/site-packages/statsmodels/base/model.py:512: ConvergenceWarning: Maximum Likelihood optimization failed to converge. Check mle_retvals\n",
      "  \"Check mle_retvals\", ConvergenceWarning)\n",
      "/home/abhilash/anaconda3/lib/python3.7/site-packages/statsmodels/base/model.py:492: HessianInversionWarning: Inverting hessian failed, no bse or cov_params available\n",
      "  'available', HessianInversionWarning)\n",
      "/home/abhilash/anaconda3/lib/python3.7/site-packages/statsmodels/base/model.py:512: ConvergenceWarning: Maximum Likelihood optimization failed to converge. Check mle_retvals\n",
      "  \"Check mle_retvals\", ConvergenceWarning)\n",
      "/home/abhilash/anaconda3/lib/python3.7/site-packages/statsmodels/base/model.py:492: HessianInversionWarning: Inverting hessian failed, no bse or cov_params available\n",
      "  'available', HessianInversionWarning)\n",
      "/home/abhilash/anaconda3/lib/python3.7/site-packages/statsmodels/base/model.py:512: ConvergenceWarning: Maximum Likelihood optimization failed to converge. Check mle_retvals\n",
      "  \"Check mle_retvals\", ConvergenceWarning)\n",
      "/home/abhilash/anaconda3/lib/python3.7/site-packages/statsmodels/base/model.py:492: HessianInversionWarning: Inverting hessian failed, no bse or cov_params available\n",
      "  'available', HessianInversionWarning)\n",
      "/home/abhilash/anaconda3/lib/python3.7/site-packages/statsmodels/base/model.py:512: ConvergenceWarning: Maximum Likelihood optimization failed to converge. Check mle_retvals\n",
      "  \"Check mle_retvals\", ConvergenceWarning)\n",
      "/home/abhilash/anaconda3/lib/python3.7/site-packages/statsmodels/base/model.py:492: HessianInversionWarning: Inverting hessian failed, no bse or cov_params available\n",
      "  'available', HessianInversionWarning)\n",
      "/home/abhilash/anaconda3/lib/python3.7/site-packages/statsmodels/base/model.py:512: ConvergenceWarning: Maximum Likelihood optimization failed to converge. Check mle_retvals\n",
      "  \"Check mle_retvals\", ConvergenceWarning)\n",
      "/home/abhilash/anaconda3/lib/python3.7/site-packages/statsmodels/base/model.py:492: HessianInversionWarning: Inverting hessian failed, no bse or cov_params available\n",
      "  'available', HessianInversionWarning)\n",
      "/home/abhilash/anaconda3/lib/python3.7/site-packages/statsmodels/base/model.py:512: ConvergenceWarning: Maximum Likelihood optimization failed to converge. Check mle_retvals\n",
      "  \"Check mle_retvals\", ConvergenceWarning)\n",
      "/home/abhilash/anaconda3/lib/python3.7/site-packages/statsmodels/base/model.py:492: HessianInversionWarning: Inverting hessian failed, no bse or cov_params available\n",
      "  'available', HessianInversionWarning)\n",
      "/home/abhilash/anaconda3/lib/python3.7/site-packages/statsmodels/base/model.py:512: ConvergenceWarning: Maximum Likelihood optimization failed to converge. Check mle_retvals\n",
      "  \"Check mle_retvals\", ConvergenceWarning)\n",
      "/home/abhilash/anaconda3/lib/python3.7/site-packages/statsmodels/base/model.py:492: HessianInversionWarning: Inverting hessian failed, no bse or cov_params available\n",
      "  'available', HessianInversionWarning)\n",
      "/home/abhilash/anaconda3/lib/python3.7/site-packages/statsmodels/base/model.py:492: HessianInversionWarning: Inverting hessian failed, no bse or cov_params available\n",
      "  'available', HessianInversionWarning)\n",
      "/home/abhilash/anaconda3/lib/python3.7/site-packages/statsmodels/base/model.py:512: ConvergenceWarning: Maximum Likelihood optimization failed to converge. Check mle_retvals\n",
      "  \"Check mle_retvals\", ConvergenceWarning)\n",
      "/home/abhilash/anaconda3/lib/python3.7/site-packages/statsmodels/base/model.py:492: HessianInversionWarning: Inverting hessian failed, no bse or cov_params available\n",
      "  'available', HessianInversionWarning)\n",
      "/home/abhilash/anaconda3/lib/python3.7/site-packages/statsmodels/base/model.py:512: ConvergenceWarning: Maximum Likelihood optimization failed to converge. Check mle_retvals\n",
      "  \"Check mle_retvals\", ConvergenceWarning)\n",
      "/home/abhilash/anaconda3/lib/python3.7/site-packages/statsmodels/base/model.py:492: HessianInversionWarning: Inverting hessian failed, no bse or cov_params available\n",
      "  'available', HessianInversionWarning)\n",
      "/home/abhilash/anaconda3/lib/python3.7/site-packages/statsmodels/base/model.py:512: ConvergenceWarning: Maximum Likelihood optimization failed to converge. Check mle_retvals\n",
      "  \"Check mle_retvals\", ConvergenceWarning)\n",
      "/home/abhilash/anaconda3/lib/python3.7/site-packages/statsmodels/base/model.py:512: ConvergenceWarning: Maximum Likelihood optimization failed to converge. Check mle_retvals\n",
      "  \"Check mle_retvals\", ConvergenceWarning)\n",
      "/home/abhilash/anaconda3/lib/python3.7/site-packages/statsmodels/base/model.py:492: HessianInversionWarning: Inverting hessian failed, no bse or cov_params available\n",
      "  'available', HessianInversionWarning)\n",
      "/home/abhilash/anaconda3/lib/python3.7/site-packages/statsmodels/base/model.py:492: HessianInversionWarning: Inverting hessian failed, no bse or cov_params available\n",
      "  'available', HessianInversionWarning)\n",
      "/home/abhilash/anaconda3/lib/python3.7/site-packages/statsmodels/base/model.py:512: ConvergenceWarning: Maximum Likelihood optimization failed to converge. Check mle_retvals\n",
      "  \"Check mle_retvals\", ConvergenceWarning)\n",
      "/home/abhilash/anaconda3/lib/python3.7/site-packages/statsmodels/base/model.py:492: HessianInversionWarning: Inverting hessian failed, no bse or cov_params available\n",
      "  'available', HessianInversionWarning)\n",
      "/home/abhilash/anaconda3/lib/python3.7/site-packages/statsmodels/base/model.py:512: ConvergenceWarning: Maximum Likelihood optimization failed to converge. Check mle_retvals\n",
      "  \"Check mle_retvals\", ConvergenceWarning)\n",
      "/home/abhilash/anaconda3/lib/python3.7/site-packages/statsmodels/base/model.py:492: HessianInversionWarning: Inverting hessian failed, no bse or cov_params available\n",
      "  'available', HessianInversionWarning)\n",
      "/home/abhilash/anaconda3/lib/python3.7/site-packages/statsmodels/base/model.py:512: ConvergenceWarning: Maximum Likelihood optimization failed to converge. Check mle_retvals\n",
      "  \"Check mle_retvals\", ConvergenceWarning)\n",
      "/home/abhilash/anaconda3/lib/python3.7/site-packages/statsmodels/base/model.py:492: HessianInversionWarning: Inverting hessian failed, no bse or cov_params available\n",
      "  'available', HessianInversionWarning)\n",
      "/home/abhilash/anaconda3/lib/python3.7/site-packages/statsmodels/base/model.py:512: ConvergenceWarning: Maximum Likelihood optimization failed to converge. Check mle_retvals\n",
      "  \"Check mle_retvals\", ConvergenceWarning)\n",
      "/home/abhilash/anaconda3/lib/python3.7/site-packages/statsmodels/base/model.py:492: HessianInversionWarning: Inverting hessian failed, no bse or cov_params available\n",
      "  'available', HessianInversionWarning)\n",
      "/home/abhilash/anaconda3/lib/python3.7/site-packages/statsmodels/base/model.py:512: ConvergenceWarning: Maximum Likelihood optimization failed to converge. Check mle_retvals\n",
      "  \"Check mle_retvals\", ConvergenceWarning)\n",
      "/home/abhilash/anaconda3/lib/python3.7/site-packages/statsmodels/base/model.py:492: HessianInversionWarning: Inverting hessian failed, no bse or cov_params available\n",
      "  'available', HessianInversionWarning)\n",
      "/home/abhilash/anaconda3/lib/python3.7/site-packages/statsmodels/base/model.py:512: ConvergenceWarning: Maximum Likelihood optimization failed to converge. Check mle_retvals\n",
      "  \"Check mle_retvals\", ConvergenceWarning)\n",
      "/home/abhilash/anaconda3/lib/python3.7/site-packages/statsmodels/base/model.py:492: HessianInversionWarning: Inverting hessian failed, no bse or cov_params available\n",
      "  'available', HessianInversionWarning)\n",
      "/home/abhilash/anaconda3/lib/python3.7/site-packages/statsmodels/base/model.py:512: ConvergenceWarning: Maximum Likelihood optimization failed to converge. Check mle_retvals\n",
      "  \"Check mle_retvals\", ConvergenceWarning)\n"
     ]
    },
    {
     "name": "stderr",
     "output_type": "stream",
     "text": [
      "/home/abhilash/anaconda3/lib/python3.7/site-packages/statsmodels/base/model.py:512: ConvergenceWarning: Maximum Likelihood optimization failed to converge. Check mle_retvals\n",
      "  \"Check mle_retvals\", ConvergenceWarning)\n",
      "/home/abhilash/anaconda3/lib/python3.7/site-packages/statsmodels/base/model.py:492: HessianInversionWarning: Inverting hessian failed, no bse or cov_params available\n",
      "  'available', HessianInversionWarning)\n",
      "/home/abhilash/anaconda3/lib/python3.7/site-packages/statsmodels/base/model.py:512: ConvergenceWarning: Maximum Likelihood optimization failed to converge. Check mle_retvals\n",
      "  \"Check mle_retvals\", ConvergenceWarning)\n",
      "/home/abhilash/anaconda3/lib/python3.7/site-packages/statsmodels/base/model.py:492: HessianInversionWarning: Inverting hessian failed, no bse or cov_params available\n",
      "  'available', HessianInversionWarning)\n",
      "/home/abhilash/anaconda3/lib/python3.7/site-packages/statsmodels/base/model.py:512: ConvergenceWarning: Maximum Likelihood optimization failed to converge. Check mle_retvals\n",
      "  \"Check mle_retvals\", ConvergenceWarning)\n",
      "/home/abhilash/anaconda3/lib/python3.7/site-packages/statsmodels/base/model.py:492: HessianInversionWarning: Inverting hessian failed, no bse or cov_params available\n",
      "  'available', HessianInversionWarning)\n",
      "/home/abhilash/anaconda3/lib/python3.7/site-packages/statsmodels/base/model.py:512: ConvergenceWarning: Maximum Likelihood optimization failed to converge. Check mle_retvals\n",
      "  \"Check mle_retvals\", ConvergenceWarning)\n",
      "/home/abhilash/anaconda3/lib/python3.7/site-packages/statsmodels/base/model.py:492: HessianInversionWarning: Inverting hessian failed, no bse or cov_params available\n",
      "  'available', HessianInversionWarning)\n",
      "/home/abhilash/anaconda3/lib/python3.7/site-packages/statsmodels/base/model.py:512: ConvergenceWarning: Maximum Likelihood optimization failed to converge. Check mle_retvals\n",
      "  \"Check mle_retvals\", ConvergenceWarning)\n",
      "/home/abhilash/anaconda3/lib/python3.7/site-packages/statsmodels/base/model.py:512: ConvergenceWarning: Maximum Likelihood optimization failed to converge. Check mle_retvals\n",
      "  \"Check mle_retvals\", ConvergenceWarning)\n",
      "/home/abhilash/anaconda3/lib/python3.7/site-packages/statsmodels/base/model.py:492: HessianInversionWarning: Inverting hessian failed, no bse or cov_params available\n",
      "  'available', HessianInversionWarning)\n",
      "/home/abhilash/anaconda3/lib/python3.7/site-packages/statsmodels/base/model.py:512: ConvergenceWarning: Maximum Likelihood optimization failed to converge. Check mle_retvals\n",
      "  \"Check mle_retvals\", ConvergenceWarning)\n",
      "/home/abhilash/anaconda3/lib/python3.7/site-packages/statsmodels/base/model.py:492: HessianInversionWarning: Inverting hessian failed, no bse or cov_params available\n",
      "  'available', HessianInversionWarning)\n",
      "/home/abhilash/anaconda3/lib/python3.7/site-packages/statsmodels/base/model.py:512: ConvergenceWarning: Maximum Likelihood optimization failed to converge. Check mle_retvals\n",
      "  \"Check mle_retvals\", ConvergenceWarning)\n",
      "/home/abhilash/anaconda3/lib/python3.7/site-packages/statsmodels/base/model.py:492: HessianInversionWarning: Inverting hessian failed, no bse or cov_params available\n",
      "  'available', HessianInversionWarning)\n",
      "/home/abhilash/anaconda3/lib/python3.7/site-packages/statsmodels/base/model.py:512: ConvergenceWarning: Maximum Likelihood optimization failed to converge. Check mle_retvals\n",
      "  \"Check mle_retvals\", ConvergenceWarning)\n",
      "/home/abhilash/anaconda3/lib/python3.7/site-packages/statsmodels/tsa/tsatools.py:668: RuntimeWarning: overflow encountered in exp\n",
      "  newparams = ((1-np.exp(-params))/(1+np.exp(-params))).copy()\n",
      "/home/abhilash/anaconda3/lib/python3.7/site-packages/statsmodels/tsa/tsatools.py:668: RuntimeWarning: invalid value encountered in true_divide\n",
      "  newparams = ((1-np.exp(-params))/(1+np.exp(-params))).copy()\n",
      "/home/abhilash/anaconda3/lib/python3.7/site-packages/statsmodels/tsa/tsatools.py:669: RuntimeWarning: overflow encountered in exp\n",
      "  tmp = ((1-np.exp(-params))/(1+np.exp(-params))).copy()\n",
      "/home/abhilash/anaconda3/lib/python3.7/site-packages/statsmodels/tsa/tsatools.py:669: RuntimeWarning: invalid value encountered in true_divide\n",
      "  tmp = ((1-np.exp(-params))/(1+np.exp(-params))).copy()\n",
      "/home/abhilash/anaconda3/lib/python3.7/site-packages/statsmodels/base/model.py:492: HessianInversionWarning: Inverting hessian failed, no bse or cov_params available\n",
      "  'available', HessianInversionWarning)\n",
      "/home/abhilash/anaconda3/lib/python3.7/site-packages/statsmodels/base/model.py:512: ConvergenceWarning: Maximum Likelihood optimization failed to converge. Check mle_retvals\n",
      "  \"Check mle_retvals\", ConvergenceWarning)\n",
      "/home/abhilash/anaconda3/lib/python3.7/site-packages/statsmodels/base/model.py:512: ConvergenceWarning: Maximum Likelihood optimization failed to converge. Check mle_retvals\n",
      "  \"Check mle_retvals\", ConvergenceWarning)\n",
      "/home/abhilash/anaconda3/lib/python3.7/site-packages/statsmodels/base/model.py:492: HessianInversionWarning: Inverting hessian failed, no bse or cov_params available\n",
      "  'available', HessianInversionWarning)\n",
      "/home/abhilash/anaconda3/lib/python3.7/site-packages/statsmodels/base/model.py:512: ConvergenceWarning: Maximum Likelihood optimization failed to converge. Check mle_retvals\n",
      "  \"Check mle_retvals\", ConvergenceWarning)\n",
      "/home/abhilash/anaconda3/lib/python3.7/site-packages/statsmodels/base/model.py:492: HessianInversionWarning: Inverting hessian failed, no bse or cov_params available\n",
      "  'available', HessianInversionWarning)\n",
      "/home/abhilash/anaconda3/lib/python3.7/site-packages/statsmodels/base/model.py:512: ConvergenceWarning: Maximum Likelihood optimization failed to converge. Check mle_retvals\n",
      "  \"Check mle_retvals\", ConvergenceWarning)\n",
      "/home/abhilash/anaconda3/lib/python3.7/site-packages/statsmodels/base/model.py:492: HessianInversionWarning: Inverting hessian failed, no bse or cov_params available\n",
      "  'available', HessianInversionWarning)\n",
      "/home/abhilash/anaconda3/lib/python3.7/site-packages/statsmodels/base/model.py:512: ConvergenceWarning: Maximum Likelihood optimization failed to converge. Check mle_retvals\n",
      "  \"Check mle_retvals\", ConvergenceWarning)\n",
      "/home/abhilash/anaconda3/lib/python3.7/site-packages/statsmodels/base/model.py:492: HessianInversionWarning: Inverting hessian failed, no bse or cov_params available\n",
      "  'available', HessianInversionWarning)\n",
      "/home/abhilash/anaconda3/lib/python3.7/site-packages/statsmodels/base/model.py:512: ConvergenceWarning: Maximum Likelihood optimization failed to converge. Check mle_retvals\n",
      "  \"Check mle_retvals\", ConvergenceWarning)\n",
      "/home/abhilash/anaconda3/lib/python3.7/site-packages/statsmodels/base/model.py:492: HessianInversionWarning: Inverting hessian failed, no bse or cov_params available\n",
      "  'available', HessianInversionWarning)\n",
      "/home/abhilash/anaconda3/lib/python3.7/site-packages/statsmodels/base/model.py:512: ConvergenceWarning: Maximum Likelihood optimization failed to converge. Check mle_retvals\n",
      "  \"Check mle_retvals\", ConvergenceWarning)\n",
      "/home/abhilash/anaconda3/lib/python3.7/site-packages/statsmodels/base/model.py:492: HessianInversionWarning: Inverting hessian failed, no bse or cov_params available\n",
      "  'available', HessianInversionWarning)\n",
      "/home/abhilash/anaconda3/lib/python3.7/site-packages/statsmodels/base/model.py:512: ConvergenceWarning: Maximum Likelihood optimization failed to converge. Check mle_retvals\n",
      "  \"Check mle_retvals\", ConvergenceWarning)\n",
      "/home/abhilash/anaconda3/lib/python3.7/site-packages/statsmodels/base/model.py:492: HessianInversionWarning: Inverting hessian failed, no bse or cov_params available\n",
      "  'available', HessianInversionWarning)\n",
      "/home/abhilash/anaconda3/lib/python3.7/site-packages/statsmodels/base/model.py:512: ConvergenceWarning: Maximum Likelihood optimization failed to converge. Check mle_retvals\n",
      "  \"Check mle_retvals\", ConvergenceWarning)\n",
      "/home/abhilash/anaconda3/lib/python3.7/site-packages/statsmodels/base/model.py:492: HessianInversionWarning: Inverting hessian failed, no bse or cov_params available\n",
      "  'available', HessianInversionWarning)\n",
      "/home/abhilash/anaconda3/lib/python3.7/site-packages/statsmodels/base/model.py:512: ConvergenceWarning: Maximum Likelihood optimization failed to converge. Check mle_retvals\n",
      "  \"Check mle_retvals\", ConvergenceWarning)\n"
     ]
    },
    {
     "name": "stderr",
     "output_type": "stream",
     "text": [
      "/home/abhilash/anaconda3/lib/python3.7/site-packages/statsmodels/base/model.py:492: HessianInversionWarning: Inverting hessian failed, no bse or cov_params available\n",
      "  'available', HessianInversionWarning)\n",
      "/home/abhilash/anaconda3/lib/python3.7/site-packages/statsmodels/base/model.py:492: HessianInversionWarning: Inverting hessian failed, no bse or cov_params available\n",
      "  'available', HessianInversionWarning)\n",
      "/home/abhilash/anaconda3/lib/python3.7/site-packages/statsmodels/base/model.py:492: HessianInversionWarning: Inverting hessian failed, no bse or cov_params available\n",
      "  'available', HessianInversionWarning)\n",
      "/home/abhilash/anaconda3/lib/python3.7/site-packages/statsmodels/base/model.py:512: ConvergenceWarning: Maximum Likelihood optimization failed to converge. Check mle_retvals\n",
      "  \"Check mle_retvals\", ConvergenceWarning)\n",
      "/home/abhilash/anaconda3/lib/python3.7/site-packages/statsmodels/base/model.py:492: HessianInversionWarning: Inverting hessian failed, no bse or cov_params available\n",
      "  'available', HessianInversionWarning)\n",
      "/home/abhilash/anaconda3/lib/python3.7/site-packages/statsmodels/base/model.py:512: ConvergenceWarning: Maximum Likelihood optimization failed to converge. Check mle_retvals\n",
      "  \"Check mle_retvals\", ConvergenceWarning)\n",
      "/home/abhilash/anaconda3/lib/python3.7/site-packages/statsmodels/base/model.py:492: HessianInversionWarning: Inverting hessian failed, no bse or cov_params available\n",
      "  'available', HessianInversionWarning)\n",
      "/home/abhilash/anaconda3/lib/python3.7/site-packages/statsmodels/base/model.py:512: ConvergenceWarning: Maximum Likelihood optimization failed to converge. Check mle_retvals\n",
      "  \"Check mle_retvals\", ConvergenceWarning)\n",
      "/home/abhilash/anaconda3/lib/python3.7/site-packages/statsmodels/base/model.py:492: HessianInversionWarning: Inverting hessian failed, no bse or cov_params available\n",
      "  'available', HessianInversionWarning)\n",
      "/home/abhilash/anaconda3/lib/python3.7/site-packages/statsmodels/base/model.py:492: HessianInversionWarning: Inverting hessian failed, no bse or cov_params available\n",
      "  'available', HessianInversionWarning)\n",
      "/home/abhilash/anaconda3/lib/python3.7/site-packages/statsmodels/base/model.py:492: HessianInversionWarning: Inverting hessian failed, no bse or cov_params available\n",
      "  'available', HessianInversionWarning)\n",
      "/home/abhilash/anaconda3/lib/python3.7/site-packages/statsmodels/base/model.py:492: HessianInversionWarning: Inverting hessian failed, no bse or cov_params available\n",
      "  'available', HessianInversionWarning)\n",
      "/home/abhilash/anaconda3/lib/python3.7/site-packages/statsmodels/base/model.py:512: ConvergenceWarning: Maximum Likelihood optimization failed to converge. Check mle_retvals\n",
      "  \"Check mle_retvals\", ConvergenceWarning)\n",
      "/home/abhilash/anaconda3/lib/python3.7/site-packages/statsmodels/base/model.py:492: HessianInversionWarning: Inverting hessian failed, no bse or cov_params available\n",
      "  'available', HessianInversionWarning)\n",
      "/home/abhilash/anaconda3/lib/python3.7/site-packages/statsmodels/base/model.py:492: HessianInversionWarning: Inverting hessian failed, no bse or cov_params available\n",
      "  'available', HessianInversionWarning)\n",
      "/home/abhilash/anaconda3/lib/python3.7/site-packages/statsmodels/base/model.py:492: HessianInversionWarning: Inverting hessian failed, no bse or cov_params available\n",
      "  'available', HessianInversionWarning)\n",
      "/home/abhilash/anaconda3/lib/python3.7/site-packages/statsmodels/base/model.py:492: HessianInversionWarning: Inverting hessian failed, no bse or cov_params available\n",
      "  'available', HessianInversionWarning)\n"
     ]
    }
   ],
   "source": [
    "for val in valid_list:\n",
    "    forecast_model(val[0],val[1],val[2])"
   ]
  },
  {
   "cell_type": "code",
   "execution_count": 17,
   "metadata": {},
   "outputs": [
    {
     "data": {
      "text/plain": [
       "[0.14096125877904242,\n",
       " 0.13393854505508793,\n",
       " 0.11466303664116774,\n",
       " 0.10697687230512658,\n",
       " 0.14096124953613748,\n",
       " 0.13393853772535672,\n",
       " 0.1146630325501991,\n",
       " 0.10697686905056213,\n",
       " 0.14096125620693062,\n",
       " 0.13393854252186654,\n",
       " 0.11466303423822954,\n",
       " 0.10697686991255037,\n",
       " 0.14096126087353936,\n",
       " 0.1339385459936635,\n",
       " 0.11466303572878558,\n",
       " 0.10697687088090255,\n",
       " 0.14096131099521544,\n",
       " 0.13393858295318276,\n",
       " 0.11466305075952962,\n",
       " 0.10697688011686206,\n",
       " 0.14096124788573583,\n",
       " 0.13393853607757028,\n",
       " 0.11466303095095604,\n",
       " 0.10697686744785692,\n",
       " 0.14096125054077036,\n",
       " 0.13393853809713302,\n",
       " 0.11466303190667963,\n",
       " 0.10697686812480868,\n",
       " 0.14096125536646734,\n",
       " 0.1339385404538827,\n",
       " 0.11466303277934028,\n",
       " 0.10697686853132811,\n",
       " 0.1409612360032441,\n",
       " 0.1339385290871576,\n",
       " 0.11466302824279416,\n",
       " 0.10697686608106792,\n",
       " 0.14096129069339863,\n",
       " 0.13393856841606278,\n",
       " 0.11466304303534212,\n",
       " 0.10697687394442786,\n",
       " 0.14096125077962957,\n",
       " 0.13393853816224754,\n",
       " 0.1146630316947841,\n",
       " 0.10697686783553023,\n",
       " 0.14096125108919821,\n",
       " 0.13393853841550335,\n",
       " 0.11466303185695062,\n",
       " 0.10697686797465304,\n",
       " 0.14096123722329934,\n",
       " 0.1339385299613244,\n",
       " 0.1146630285455233,\n",
       " 0.1069768662643806,\n",
       " 0.1409612359480578,\n",
       " 0.13393852905317477,\n",
       " 0.1146630282666094,\n",
       " 0.10697686611186266,\n",
       " 0.14096129342793917,\n",
       " 0.13393856837797766,\n",
       " 0.11466304313838849,\n",
       " 0.10697687402159355,\n",
       " 0.14096125568491585,\n",
       " 0.13393854174957384,\n",
       " 0.11466303309388065,\n",
       " 0.10697686865531875,\n",
       " 0.14096126967165293,\n",
       " 0.1339385518661683,\n",
       " 0.11466303678007939,\n",
       " 0.10697687063476995,\n",
       " 0.14096128058190693,\n",
       " 0.133938561293729,\n",
       " 0.11466304042253689,\n",
       " 0.10697687260013941,\n",
       " 0.1409612850349485,\n",
       " 0.13393856245577582,\n",
       " 0.11466304104749524,\n",
       " 0.1069768729638428,\n",
       " 0.1409612891462944,\n",
       " 0.1339385686265689,\n",
       " 0.11466303455314332,\n",
       " 0.10697687011629173,\n",
       " 0.1409612820212432,\n",
       " 0.1339385621232916,\n",
       " 0.11466304345227014,\n",
       " 0.10697687640341531,\n",
       " 0.14096127620039586,\n",
       " 0.13393855704959085,\n",
       " 0.11466303967260981,\n",
       " 0.10697687293573264,\n",
       " 0.14096128561419102,\n",
       " 0.13393856366457388,\n",
       " 0.11466304163927034,\n",
       " 0.10697687345136506,\n",
       " 0.14096128707028324,\n",
       " 0.1339385632208528,\n",
       " 0.11466304126401708,\n",
       " 0.10697687313277254,\n",
       " 0.14096131245317745,\n",
       " 0.13393858367536896,\n",
       " 0.11466303753034714,\n",
       " 0.1069768711855643,\n",
       " 0.140961306990613,\n",
       " 0.13393857942902673,\n",
       " 0.11466304926887508,\n",
       " 0.10697687916084006,\n",
       " 0.14096128980603584,\n",
       " 0.13393856658415668,\n",
       " 0.11466304330889439,\n",
       " 0.10697687500739529,\n",
       " 0.14096131578878981,\n",
       " 0.1339385823716333,\n",
       " 0.11466304992803046,\n",
       " 0.10697687837206174,\n",
       " 0.14096131124135244,\n",
       " 0.13393857803744133,\n",
       " 0.11466304780394176,\n",
       " 0.10697687720065564,\n",
       " 0.14096132672665418,\n",
       " 0.1339385946845328,\n",
       " 0.11466303475317953,\n",
       " 0.10697686805001004,\n",
       " 0.14096130611458824,\n",
       " 0.1339385793351853,\n",
       " 0.11466304951611435,\n",
       " 0.1069768795067206,\n",
       " 0.1409612897629507,\n",
       " 0.13393856646670813,\n",
       " 0.11466304308933832,\n",
       " 0.10697687475786455,\n",
       " 0.1409613164183036,\n",
       " 0.13393858222657878,\n",
       " 0.1146630501122326,\n",
       " 0.10697687873664644,\n",
       " 0.14096131122719557,\n",
       " 0.13393857819548916,\n",
       " 0.11466304801958772,\n",
       " 0.1069768775848892,\n",
       " 0.1409613296959034,\n",
       " 0.13393859747538794,\n",
       " 0.11466303661182388,\n",
       " 0.10697686991217421,\n",
       " 0.14096129594881557,\n",
       " 0.13393857049948293,\n",
       " 0.11466304395283712,\n",
       " 0.10697687476945329,\n",
       " 0.1409612924520745,\n",
       " 0.13393856857694605,\n",
       " 0.11466304328489911,\n",
       " 0.10697687443900993,\n",
       " 0.14096130829267564,\n",
       " 0.13393857713447524,\n",
       " 0.11466304751274332,\n",
       " 0.1069768768832034,\n",
       " 0.14096130215197833,\n",
       " 0.13393857253616775,\n",
       " 0.11466304538077174,\n",
       " 0.10697687577141195,\n",
       " 0.1409613323652046,\n",
       " 0.1339386039503356,\n",
       " 0.11466304235246658,\n",
       " 0.10697687790246564,\n",
       " 0.14096130252173908,\n",
       " 0.1339385730783237,\n",
       " 0.11466304483850599,\n",
       " 0.10697687516177277,\n",
       " 0.14096129373967223,\n",
       " 0.13393856895184625,\n",
       " 0.11466304309986802,\n",
       " 0.10697687407683516,\n",
       " 0.14096130561272752,\n",
       " 0.13393857500950024,\n",
       " 0.11466304620182254,\n",
       " 0.10697687579386228,\n",
       " 0.14096130117531827,\n",
       " 0.13393857124956127,\n",
       " 0.11466304445143624,\n",
       " 0.10697687488130335,\n",
       " 0.14096131156739014,\n",
       " 0.1339385856825274,\n",
       " 0.11466304140702728,\n",
       " 0.10697687401460494,\n",
       " 0.1409613033019892,\n",
       " 0.13393857404077367,\n",
       " 0.11466304522635999,\n",
       " 0.10697687537004953,\n",
       " 0.14096129443082514,\n",
       " 0.1339385698680477,\n",
       " 0.11466304355608448,\n",
       " 0.10697687440184855,\n",
       " 0.14096131174444737,\n",
       " 0.13393858224028596,\n",
       " 0.11466304886237161,\n",
       " 0.10697687718714433,\n",
       " 0.14096131181496407,\n",
       " 0.13393858059750563,\n",
       " 0.11466304825528825,\n",
       " 0.10697687688423442,\n",
       " 0.1409613133445356,\n",
       " 0.13393858809985426,\n",
       " 0.11466304153330019,\n",
       " 0.10697687419193912,\n",
       " 0.14096130472745058,\n",
       " 0.1339385781720754,\n",
       " 0.11466304663415837,\n",
       " 0.10697687609304261,\n",
       " 0.14096129471773425,\n",
       " 0.13393857002062978,\n",
       " 0.11466304363236039,\n",
       " 0.10697687445610748,\n",
       " 0.14096131018209848,\n",
       " 0.13393858178027493,\n",
       " 0.11466304863714794,\n",
       " 0.10697687709262743,\n",
       " 0.1409613112304732,\n",
       " 0.1339385801252562,\n",
       " 0.11466304796374255,\n",
       " 0.10697687663887896,\n",
       " 0.140961291529256,\n",
       " 0.13393857018650485,\n",
       " 0.11466304807033,\n",
       " 0.10697687850854644,\n",
       " 0.14096132251738608,\n",
       " 0.13393860362915935,\n",
       " 0.11466305531936154,\n",
       " 0.10697688077230535,\n",
       " 0.14096131683861457,\n",
       " 0.13393859522286788,\n",
       " 0.11466305278292623,\n",
       " 0.1069768793246466,\n",
       " 0.14096131805635512,\n",
       " 0.13393858708808862,\n",
       " 0.1146630512146,\n",
       " 0.10697687847434036,\n",
       " 0.14096132276881226,\n",
       " 0.13393858636523706,\n",
       " 0.11466305107667178,\n",
       " 0.10697687840588234,\n",
       " 0.14096130411905228,\n",
       " 0.13393858179646456,\n",
       " 0.11466305121260019,\n",
       " 0.10697688043700361]"
      ]
     },
     "execution_count": 17,
     "metadata": {},
     "output_type": "execute_result"
    }
   ],
   "source": [
    "rmse_accuracy"
   ]
  },
  {
   "cell_type": "code",
   "execution_count": 18,
   "metadata": {
    "scrolled": true
   },
   "outputs": [
    {
     "data": {
      "text/plain": [
       "[0.9999971506420899,\n",
       " 0.9999980575997511,\n",
       " 0.999999440669409,\n",
       " 0.9999997521949683,\n",
       " 0.9999971415497765,\n",
       " 0.9999980446403566,\n",
       " 0.9999994163167264,\n",
       " 0.9999997258616322,\n",
       " 0.999997087588352,\n",
       " 0.999998007224753,\n",
       " 0.9999994035719425,\n",
       " 0.9999997187296523,\n",
       " 0.9999971105397036,\n",
       " 0.9999980240066184,\n",
       " 0.999999411987888,\n",
       " 0.9999997251597192,\n",
       " 0.9999970959178041,\n",
       " 0.9999980211785424,\n",
       " 0.999999432568075,\n",
       " 0.9999997504037293,\n",
       " 0.9999971001756207,\n",
       " 0.9999980114543755,\n",
       " 0.9999993915318041,\n",
       " 0.9999997034014212,\n",
       " 0.9999970852421204,\n",
       " 0.9999980022169461,\n",
       " 0.9999993917475011,\n",
       " 0.9999997056646935,\n",
       " 0.9999971150671721,\n",
       " 0.9999980009268306,\n",
       " 0.9999993918271795,\n",
       " 0.9999997048171221,\n",
       " 0.999997104914106,\n",
       " 0.9999980525305006,\n",
       " 0.9999994091700243,\n",
       " 0.9999997136497115,\n",
       " 0.9999968251706676,\n",
       " 0.999997825720446,\n",
       " 0.9999992968913984,\n",
       " 0.9999996550218616,\n",
       " 0.9999970843036937,\n",
       " 0.9999980004463771,\n",
       " 0.9999993877875989,\n",
       " 0.9999997013096387,\n",
       " 0.9999970858185283,\n",
       " 0.9999980017971251,\n",
       " 0.9999993892125632,\n",
       " 0.9999997027219977,\n",
       " 0.9999971001413708,\n",
       " 0.999998051546596,\n",
       " 0.9999994122870097,\n",
       " 0.9999997154930701,\n",
       " 0.9999971066316706,\n",
       " 0.9999980531140995,\n",
       " 0.9999994090145614,\n",
       " 0.9999997138113512,\n",
       " 0.9999968657411212,\n",
       " 0.9999978213085052,\n",
       " 0.9999993175182628,\n",
       " 0.9999996657254598,\n",
       " 0.9999970786694053,\n",
       " 0.9999979969712092,\n",
       " 0.9999993879170985,\n",
       " 0.9999997022189727,\n",
       " 0.9999970352635235,\n",
       " 0.9999979670799257,\n",
       " 0.9999993782356783,\n",
       " 0.9999996971194334,\n",
       " 0.999996882923604,\n",
       " 0.9999978727096217,\n",
       " 0.999999316334251,\n",
       " 0.9999996657970838,\n",
       " 0.9999969167018253,\n",
       " 0.9999978600356558,\n",
       " 0.9999993322253561,\n",
       " 0.99999967415048,\n",
       " 0.999996181870447,\n",
       " 0.9999976641676444,\n",
       " 0.9999995777778418,\n",
       " 0.9999998013325925,\n",
       " 0.9999970178920272,\n",
       " 0.999997968960672,\n",
       " 0.9999994208928245,\n",
       " 0.9999997477659928,\n",
       " 0.9999970060411862,\n",
       " 0.9999979517752107,\n",
       " 0.9999993877763361,\n",
       " 0.999999711858986,\n",
       " 0.9999969688302386,\n",
       " 0.9999979085085011,\n",
       " 0.9999993409873718,\n",
       " 0.9999996808277164,\n",
       " 0.9999969927475022,\n",
       " 0.9999979079010134,\n",
       " 0.999999360739104,\n",
       " 0.9999996892492378,\n",
       " 0.999996306035289,\n",
       " 0.999997758467271,\n",
       " 0.9999995390165499,\n",
       " 0.9999997923984394,\n",
       " 0.9999968837189323,\n",
       " 0.9999978690216048,\n",
       " 0.9999993822792714,\n",
       " 0.999999722997012,\n",
       " 0.9999968890920313,\n",
       " 0.9999978685768572,\n",
       " 0.9999993637743679,\n",
       " 0.9999997011367987,\n",
       " 0.9999968786432437,\n",
       " 0.9999977549126016,\n",
       " 0.999999279663435,\n",
       " 0.9999996556868576,\n",
       " 0.9999969301020699,\n",
       " 0.999997803418266,\n",
       " 0.999999342083243,\n",
       " 0.9999996869617244,\n",
       " 0.9999958446248493,\n",
       " 0.9999976018777846,\n",
       " 0.9999996998600621,\n",
       " 0.9999998829942145,\n",
       " 0.9999968758466848,\n",
       " 0.9999978685823117,\n",
       " 0.9999993859123845,\n",
       " 0.9999997276926136,\n",
       " 0.9999968826114334,\n",
       " 0.9999978631631302,\n",
       " 0.9999993595429618,\n",
       " 0.9999996972368325,\n",
       " 0.9999969198554427,\n",
       " 0.999997780415625,\n",
       " 0.9999993074539961,\n",
       " 0.9999996733238904,\n",
       " 0.9999969450399216,\n",
       " 0.9999978257414943,\n",
       " 0.9999993631393062,\n",
       " 0.9999997011989828,\n",
       " 0.9999958685098939,\n",
       " 0.9999976224923233,\n",
       " 0.9999996995045776,\n",
       " 0.9999998875121883,\n",
       " 0.9999968584867885,\n",
       " 0.999997841529703,\n",
       " 0.9999993441047742,\n",
       " 0.9999996832924761,\n",
       " 0.9999968227132411,\n",
       " 0.999997822645801,\n",
       " 0.9999993384023709,\n",
       " 0.9999996808321533,\n",
       " 0.9999968854745581,\n",
       " 0.9999977759671197,\n",
       " 0.9999992947407508,\n",
       " 0.9999996608856829,\n",
       " 0.9999969153622671,\n",
       " 0.9999978228257802,\n",
       " 0.9999993488310609,\n",
       " 0.9999996887761169,\n",
       " 0.9999959837268076,\n",
       " 0.9999977125952666,\n",
       " 0.9999994948481907,\n",
       " 0.9999997739850653,\n",
       " 0.9999969336805523,\n",
       " 0.9999978714332975,\n",
       " 0.9999993512607613,\n",
       " 0.999999685731725,\n",
       " 0.9999968327015515,\n",
       " 0.9999978215713535,\n",
       " 0.9999993321927944,\n",
       " 0.9999996741614968,\n",
       " 0.9999968727256476,\n",
       " 0.9999977664634594,\n",
       " 0.9999992852945249,\n",
       " 0.9999996509920376,\n",
       " 0.9999969035817814,\n",
       " 0.9999978040754499,\n",
       " 0.9999993347518609,\n",
       " 0.9999996764455035,\n",
       " 0.999996365493068,\n",
       " 0.9999977691394033,\n",
       " 0.9999994781498006,\n",
       " 0.9999997643663141,\n",
       " 0.9999968629922251,\n",
       " 0.9999978255953215,\n",
       " 0.9999993391576075,\n",
       " 0.9999996795980832,\n",
       " 0.9999968096477748,\n",
       " 0.9999978078803418,\n",
       " 0.9999993286093912,\n",
       " 0.9999996734056598,\n",
       " 0.9999967317023771,\n",
       " 0.9999977028346242,\n",
       " 0.9999992268081425,\n",
       " 0.9999996208710712,\n",
       " 0.9999967660269413,\n",
       " 0.9999977124529973,\n",
       " 0.9999992737702733,\n",
       " 0.9999996448954811,\n",
       " 0.9999963313414731,\n",
       " 0.99999776936776,\n",
       " 0.999999421868503,\n",
       " 0.9999997289586195,\n",
       " 0.9999968610512294,\n",
       " 0.9999978533122857,\n",
       " 0.9999993388477666,\n",
       " 0.9999996789161371,\n",
       " 0.9999968068523803,\n",
       " 0.9999978056042409,\n",
       " 0.9999993283145819,\n",
       " 0.9999996734318597,\n",
       " 0.999996713421826,\n",
       " 0.9999977051382674,\n",
       " 0.9999992278492743,\n",
       " 0.9999996217840452,\n",
       " 0.9999967627933773,\n",
       " 0.9999977097473061,\n",
       " 0.9999992711900879,\n",
       " 0.9999996424112524,\n",
       " 0.9999971258870225,\n",
       " 0.9999979693810258,\n",
       " 0.999999114533565,\n",
       " 0.9999995661767823,\n",
       " 0.9999966458813687,\n",
       " 0.9999978244764606,\n",
       " 0.9999993155095727,\n",
       " 0.9999996668418937,\n",
       " 0.9999964151518879,\n",
       " 0.9999976380376263,\n",
       " 0.9999992685710946,\n",
       " 0.999999642130768,\n",
       " 0.9999967193193376,\n",
       " 0.9999976594013926,\n",
       " 0.999999167498022,\n",
       " 0.9999995910621778,\n",
       " 0.999996773426214,\n",
       " 0.9999976493704307,\n",
       " 0.9999992350547331,\n",
       " 0.999999625289275,\n",
       " 0.999997127896438,\n",
       " 0.9999980343826806,\n",
       " 0.9999990020126732,\n",
       " 0.9999995213631185]"
      ]
     },
     "execution_count": 18,
     "metadata": {},
     "output_type": "execute_result"
    }
   ],
   "source": [
    "mape"
   ]
  },
  {
   "cell_type": "code",
   "execution_count": 19,
   "metadata": {},
   "outputs": [],
   "source": [
    "maximum=np.amax(rmse_accuracy)"
   ]
  },
  {
   "cell_type": "code",
   "execution_count": 20,
   "metadata": {},
   "outputs": [
    {
     "data": {
      "text/plain": [
       "156"
      ]
     },
     "execution_count": 20,
     "metadata": {},
     "output_type": "execute_result"
    }
   ],
   "source": [
    "ind=0\n",
    "for i in range(0,len(rmse_accuracy)):\n",
    "    if rmse_accuracy[i] == maximum:\n",
    "        ind=i\n",
    "        break\n",
    "ind"
   ]
  },
  {
   "cell_type": "code",
   "execution_count": 24,
   "metadata": {},
   "outputs": [
    {
     "data": {
      "text/plain": [
       "[8, 1, 5]"
      ]
     },
     "execution_count": 24,
     "metadata": {},
     "output_type": "execute_result"
    }
   ],
   "source": [
    "valid_list[39]"
   ]
  },
  {
   "cell_type": "code",
   "execution_count": 22,
   "metadata": {},
   "outputs": [
    {
     "data": {
      "text/plain": [
       "0.1409613323652046"
      ]
     },
     "execution_count": 22,
     "metadata": {},
     "output_type": "execute_result"
    }
   ],
   "source": [
    "rmse_accuracy[ind]"
   ]
  },
  {
   "cell_type": "code",
   "execution_count": 23,
   "metadata": {},
   "outputs": [
    {
     "data": {
      "text/plain": [
       "0.9999959837268076"
      ]
     },
     "execution_count": 23,
     "metadata": {},
     "output_type": "execute_result"
    }
   ],
   "source": [
    "mape[ind]"
   ]
  },
  {
   "cell_type": "code",
   "execution_count": 26,
   "metadata": {},
   "outputs": [],
   "source": [
    "np.save('AlibabaGoogle_predicted.npy',predicted[156])"
   ]
  }
 ],
 "metadata": {
  "kernelspec": {
   "display_name": "Python 3",
   "language": "python",
   "name": "python3"
  },
  "language_info": {
   "codemirror_mode": {
    "name": "ipython",
    "version": 3
   },
   "file_extension": ".py",
   "mimetype": "text/x-python",
   "name": "python",
   "nbconvert_exporter": "python",
   "pygments_lexer": "ipython3",
   "version": "3.7.5"
  }
 },
 "nbformat": 4,
 "nbformat_minor": 2
}
