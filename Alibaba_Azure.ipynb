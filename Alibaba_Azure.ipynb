{
 "cells": [
  {
   "cell_type": "code",
   "execution_count": 1,
   "metadata": {},
   "outputs": [],
   "source": [
    "import pandas as pd\n",
    "import numpy as np\n",
    "from statsmodels.tsa.arima_model import ARIMA"
   ]
  },
  {
   "cell_type": "markdown",
   "metadata": {},
   "source": [
    "# Alibaba Data\n",
    "### Write more"
   ]
  },
  {
   "cell_type": "code",
   "execution_count": 2,
   "metadata": {
    "scrolled": true
   },
   "outputs": [
    {
     "data": {
      "text/plain": [
       "(8751, 1)"
      ]
     },
     "execution_count": 2,
     "metadata": {},
     "output_type": "execute_result"
    }
   ],
   "source": [
    "alibaba_data=pd.read_pickle('Alibaba_Azure.pkl')\n",
    "alibaba_data=alibaba_data[0:8751]\n",
    "endvalue=alibaba_data.shape[0]\n",
    "alibaba_data.shape"
   ]
  },
  {
   "cell_type": "markdown",
   "metadata": {},
   "source": [
    "# Azure Data"
   ]
  },
  {
   "cell_type": "code",
   "execution_count": 3,
   "metadata": {},
   "outputs": [
    {
     "data": {
      "text/plain": [
       "(8571, 1)"
      ]
     },
     "execution_count": 3,
     "metadata": {},
     "output_type": "execute_result"
    }
   ],
   "source": [
    "azure_data=pd.read_pickle('Azure_Alibaba.pkl')\n",
    "azure_data.shape"
   ]
  },
  {
   "cell_type": "code",
   "execution_count": 4,
   "metadata": {},
   "outputs": [
    {
     "data": {
      "text/plain": [
       "(8571,)"
      ]
     },
     "execution_count": 4,
     "metadata": {},
     "output_type": "execute_result"
    }
   ],
   "source": [
    "azure_data=np.array(azure_data,dtype=float)\n",
    "azure_data=np.ravel(azure_data)\n",
    "azure_data.shape"
   ]
  },
  {
   "cell_type": "code",
   "execution_count": 5,
   "metadata": {},
   "outputs": [
    {
     "data": {
      "text/plain": [
       "(8751,)"
      ]
     },
     "execution_count": 5,
     "metadata": {},
     "output_type": "execute_result"
    }
   ],
   "source": [
    "alibaba_data=np.array(alibaba_data,dtype=float)\n",
    "alibaba_data=np.ravel(alibaba_data)\n",
    "alibaba_data.shape"
   ]
  },
  {
   "cell_type": "markdown",
   "metadata": {},
   "source": [
    "## Removing NaN values"
   ]
  },
  {
   "cell_type": "code",
   "execution_count": 6,
   "metadata": {},
   "outputs": [],
   "source": [
    "azure_data=np.nan_to_num(azure_data)\n",
    "alibaba_data=np.nan_to_num(alibaba_data)"
   ]
  },
  {
   "cell_type": "markdown",
   "metadata": {},
   "source": [
    "## Combining the data into one"
   ]
  },
  {
   "cell_type": "code",
   "execution_count": 7,
   "metadata": {},
   "outputs": [],
   "source": [
    "combined=np.append(alibaba_data,azure_data)"
   ]
  },
  {
   "cell_type": "markdown",
   "metadata": {},
   "source": [
    "## Generating Training and Test data\n",
    "### Train and Test data is generated according to the shape of the traces"
   ]
  },
  {
   "cell_type": "code",
   "execution_count": 8,
   "metadata": {},
   "outputs": [],
   "source": [
    "train= combined[0:endvalue]"
   ]
  },
  {
   "cell_type": "markdown",
   "metadata": {},
   "source": [
    "## Function to get valid list"
   ]
  },
  {
   "cell_type": "code",
   "execution_count": 9,
   "metadata": {},
   "outputs": [],
   "source": [
    "def try_forecast_model(p,q,d):\n",
    "    temp=[]\n",
    "    model=ARIMA(train,order=(p,q,d))\n",
    "    try:\n",
    "        model_fit=model.fit(disp=0)\n",
    "    except:\n",
    "        temp.append(p)\n",
    "        temp.append(q)\n",
    "        temp.append(d)\n",
    "        invalid_list.append(temp)"
   ]
  },
  {
   "cell_type": "markdown",
   "metadata": {},
   "source": [
    "## Declaring 'p','q','d' values for the model\n",
    "### These values are being declared to do a sort of grid search"
   ]
  },
  {
   "cell_type": "code",
   "execution_count": 10,
   "metadata": {},
   "outputs": [],
   "source": [
    "AR_parameter=[1,2,3,4,5,6,7,8,9,10,11,12]\n",
    "MA_parameter=[1,2]\n",
    "difference=[1,2,3,4,5]"
   ]
  },
  {
   "cell_type": "code",
   "execution_count": 11,
   "metadata": {},
   "outputs": [
    {
     "name": "stderr",
     "output_type": "stream",
     "text": [
      "/home/abhilash/anaconda3/lib/python3.7/site-packages/statsmodels/base/model.py:492: HessianInversionWarning: Inverting hessian failed, no bse or cov_params available\n",
      "  'available', HessianInversionWarning)\n",
      "/home/abhilash/anaconda3/lib/python3.7/site-packages/statsmodels/base/model.py:492: HessianInversionWarning: Inverting hessian failed, no bse or cov_params available\n",
      "  'available', HessianInversionWarning)\n",
      "/home/abhilash/anaconda3/lib/python3.7/site-packages/statsmodels/base/model.py:492: HessianInversionWarning: Inverting hessian failed, no bse or cov_params available\n",
      "  'available', HessianInversionWarning)\n",
      "/home/abhilash/anaconda3/lib/python3.7/site-packages/statsmodels/base/model.py:492: HessianInversionWarning: Inverting hessian failed, no bse or cov_params available\n",
      "  'available', HessianInversionWarning)\n",
      "/home/abhilash/anaconda3/lib/python3.7/site-packages/statsmodels/base/model.py:492: HessianInversionWarning: Inverting hessian failed, no bse or cov_params available\n",
      "  'available', HessianInversionWarning)\n",
      "/home/abhilash/anaconda3/lib/python3.7/site-packages/statsmodels/base/model.py:492: HessianInversionWarning: Inverting hessian failed, no bse or cov_params available\n",
      "  'available', HessianInversionWarning)\n",
      "/home/abhilash/anaconda3/lib/python3.7/site-packages/statsmodels/base/model.py:492: HessianInversionWarning: Inverting hessian failed, no bse or cov_params available\n",
      "  'available', HessianInversionWarning)\n",
      "/home/abhilash/anaconda3/lib/python3.7/site-packages/statsmodels/base/model.py:492: HessianInversionWarning: Inverting hessian failed, no bse or cov_params available\n",
      "  'available', HessianInversionWarning)\n",
      "/home/abhilash/anaconda3/lib/python3.7/site-packages/statsmodels/base/model.py:492: HessianInversionWarning: Inverting hessian failed, no bse or cov_params available\n",
      "  'available', HessianInversionWarning)\n",
      "/home/abhilash/anaconda3/lib/python3.7/site-packages/statsmodels/base/model.py:492: HessianInversionWarning: Inverting hessian failed, no bse or cov_params available\n",
      "  'available', HessianInversionWarning)\n",
      "/home/abhilash/anaconda3/lib/python3.7/site-packages/statsmodels/base/model.py:492: HessianInversionWarning: Inverting hessian failed, no bse or cov_params available\n",
      "  'available', HessianInversionWarning)\n",
      "/home/abhilash/anaconda3/lib/python3.7/site-packages/statsmodels/base/model.py:492: HessianInversionWarning: Inverting hessian failed, no bse or cov_params available\n",
      "  'available', HessianInversionWarning)\n",
      "/home/abhilash/anaconda3/lib/python3.7/site-packages/statsmodels/base/model.py:492: HessianInversionWarning: Inverting hessian failed, no bse or cov_params available\n",
      "  'available', HessianInversionWarning)\n",
      "/home/abhilash/anaconda3/lib/python3.7/site-packages/statsmodels/base/model.py:492: HessianInversionWarning: Inverting hessian failed, no bse or cov_params available\n",
      "  'available', HessianInversionWarning)\n",
      "/home/abhilash/anaconda3/lib/python3.7/site-packages/statsmodels/base/model.py:492: HessianInversionWarning: Inverting hessian failed, no bse or cov_params available\n",
      "  'available', HessianInversionWarning)\n",
      "/home/abhilash/anaconda3/lib/python3.7/site-packages/statsmodels/base/model.py:492: HessianInversionWarning: Inverting hessian failed, no bse or cov_params available\n",
      "  'available', HessianInversionWarning)\n",
      "/home/abhilash/anaconda3/lib/python3.7/site-packages/statsmodels/base/model.py:492: HessianInversionWarning: Inverting hessian failed, no bse or cov_params available\n",
      "  'available', HessianInversionWarning)\n",
      "/home/abhilash/anaconda3/lib/python3.7/site-packages/statsmodels/base/model.py:492: HessianInversionWarning: Inverting hessian failed, no bse or cov_params available\n",
      "  'available', HessianInversionWarning)\n",
      "/home/abhilash/anaconda3/lib/python3.7/site-packages/statsmodels/base/model.py:492: HessianInversionWarning: Inverting hessian failed, no bse or cov_params available\n",
      "  'available', HessianInversionWarning)\n",
      "/home/abhilash/anaconda3/lib/python3.7/site-packages/statsmodels/base/model.py:492: HessianInversionWarning: Inverting hessian failed, no bse or cov_params available\n",
      "  'available', HessianInversionWarning)\n",
      "/home/abhilash/anaconda3/lib/python3.7/site-packages/statsmodels/base/model.py:492: HessianInversionWarning: Inverting hessian failed, no bse or cov_params available\n",
      "  'available', HessianInversionWarning)\n",
      "/home/abhilash/anaconda3/lib/python3.7/site-packages/statsmodels/base/model.py:492: HessianInversionWarning: Inverting hessian failed, no bse or cov_params available\n",
      "  'available', HessianInversionWarning)\n",
      "/home/abhilash/anaconda3/lib/python3.7/site-packages/statsmodels/base/model.py:492: HessianInversionWarning: Inverting hessian failed, no bse or cov_params available\n",
      "  'available', HessianInversionWarning)\n",
      "/home/abhilash/anaconda3/lib/python3.7/site-packages/statsmodels/base/model.py:492: HessianInversionWarning: Inverting hessian failed, no bse or cov_params available\n",
      "  'available', HessianInversionWarning)\n",
      "/home/abhilash/anaconda3/lib/python3.7/site-packages/statsmodels/base/model.py:492: HessianInversionWarning: Inverting hessian failed, no bse or cov_params available\n",
      "  'available', HessianInversionWarning)\n",
      "/home/abhilash/anaconda3/lib/python3.7/site-packages/statsmodels/base/model.py:492: HessianInversionWarning: Inverting hessian failed, no bse or cov_params available\n",
      "  'available', HessianInversionWarning)\n",
      "/home/abhilash/anaconda3/lib/python3.7/site-packages/statsmodels/base/model.py:492: HessianInversionWarning: Inverting hessian failed, no bse or cov_params available\n",
      "  'available', HessianInversionWarning)\n",
      "/home/abhilash/anaconda3/lib/python3.7/site-packages/statsmodels/base/model.py:492: HessianInversionWarning: Inverting hessian failed, no bse or cov_params available\n",
      "  'available', HessianInversionWarning)\n",
      "/home/abhilash/anaconda3/lib/python3.7/site-packages/statsmodels/base/model.py:492: HessianInversionWarning: Inverting hessian failed, no bse or cov_params available\n",
      "  'available', HessianInversionWarning)\n",
      "/home/abhilash/anaconda3/lib/python3.7/site-packages/statsmodels/base/model.py:492: HessianInversionWarning: Inverting hessian failed, no bse or cov_params available\n",
      "  'available', HessianInversionWarning)\n",
      "/home/abhilash/anaconda3/lib/python3.7/site-packages/statsmodels/base/model.py:492: HessianInversionWarning: Inverting hessian failed, no bse or cov_params available\n",
      "  'available', HessianInversionWarning)\n",
      "/home/abhilash/anaconda3/lib/python3.7/site-packages/statsmodels/base/model.py:492: HessianInversionWarning: Inverting hessian failed, no bse or cov_params available\n",
      "  'available', HessianInversionWarning)\n",
      "/home/abhilash/anaconda3/lib/python3.7/site-packages/statsmodels/base/model.py:492: HessianInversionWarning: Inverting hessian failed, no bse or cov_params available\n",
      "  'available', HessianInversionWarning)\n",
      "/home/abhilash/anaconda3/lib/python3.7/site-packages/statsmodels/base/model.py:492: HessianInversionWarning: Inverting hessian failed, no bse or cov_params available\n",
      "  'available', HessianInversionWarning)\n",
      "/home/abhilash/anaconda3/lib/python3.7/site-packages/statsmodels/base/model.py:492: HessianInversionWarning: Inverting hessian failed, no bse or cov_params available\n",
      "  'available', HessianInversionWarning)\n",
      "/home/abhilash/anaconda3/lib/python3.7/site-packages/statsmodels/base/model.py:492: HessianInversionWarning: Inverting hessian failed, no bse or cov_params available\n",
      "  'available', HessianInversionWarning)\n",
      "/home/abhilash/anaconda3/lib/python3.7/site-packages/statsmodels/base/model.py:492: HessianInversionWarning: Inverting hessian failed, no bse or cov_params available\n",
      "  'available', HessianInversionWarning)\n",
      "/home/abhilash/anaconda3/lib/python3.7/site-packages/statsmodels/base/model.py:492: HessianInversionWarning: Inverting hessian failed, no bse or cov_params available\n",
      "  'available', HessianInversionWarning)\n",
      "/home/abhilash/anaconda3/lib/python3.7/site-packages/statsmodels/base/model.py:492: HessianInversionWarning: Inverting hessian failed, no bse or cov_params available\n",
      "  'available', HessianInversionWarning)\n",
      "/home/abhilash/anaconda3/lib/python3.7/site-packages/statsmodels/base/model.py:512: ConvergenceWarning: Maximum Likelihood optimization failed to converge. Check mle_retvals\n",
      "  \"Check mle_retvals\", ConvergenceWarning)\n"
     ]
    }
   ],
   "source": [
    "total_list=[]\n",
    "invalid_list=[]\n",
    "for p in AR_parameter:\n",
    "    for q in MA_parameter:\n",
    "        for d in difference:\n",
    "            initial_temp=[]\n",
    "            initial_temp.append(p)\n",
    "            initial_temp.append(q)\n",
    "            initial_temp.append(d)\n",
    "            total_list.append(initial_temp)\n",
    "            try_forecast_model(p,q,d)"
   ]
  },
  {
   "cell_type": "markdown",
   "metadata": {},
   "source": [
    "## Finding a valid list of hyperparameters"
   ]
  },
  {
   "cell_type": "code",
   "execution_count": 12,
   "metadata": {},
   "outputs": [],
   "source": [
    "valid_list = []\n",
    "for list in total_list:\n",
    "    if list not in invalid_list:\n",
    "        valid_list.append(list) "
   ]
  },
  {
   "cell_type": "markdown",
   "metadata": {},
   "source": [
    "## Forecasting Model"
   ]
  },
  {
   "cell_type": "code",
   "execution_count": 13,
   "metadata": {},
   "outputs": [],
   "source": [
    "rmse_accuracy=[]\n",
    "predicted=[]\n",
    "mape=[]\n",
    "def forecast_model(p,q,d):\n",
    "    temp=[]\n",
    "    model=ARIMA(train,order=(p,q,d))\n",
    "    model_fit=model.fit(disp=0)\n",
    "    end_values=[10,15,50,100]\n",
    "    for value in end_values:\n",
    "        forecast=model_fit.predict(start=endvalue,end=endvalue+value)\n",
    "        predicted.append(forecast)\n",
    "        actual_values=combined[endvalue:(endvalue+value+1)]\n",
    "        accuracy=np.mean((forecast - actual_values)**2)**.5\n",
    "        rmse_accuracy.append(accuracy)\n",
    "        acc = np.mean(np.abs(forecast - actual_values)/np.abs(actual_values))\n",
    "        mape.append(acc)"
   ]
  },
  {
   "cell_type": "markdown",
   "metadata": {},
   "source": [
    "### Running the model"
   ]
  },
  {
   "cell_type": "code",
   "execution_count": 14,
   "metadata": {},
   "outputs": [
    {
     "name": "stderr",
     "output_type": "stream",
     "text": [
      "/home/abhilash/anaconda3/lib/python3.7/site-packages/statsmodels/base/model.py:492: HessianInversionWarning: Inverting hessian failed, no bse or cov_params available\n",
      "  'available', HessianInversionWarning)\n",
      "/home/abhilash/anaconda3/lib/python3.7/site-packages/statsmodels/base/model.py:492: HessianInversionWarning: Inverting hessian failed, no bse or cov_params available\n",
      "  'available', HessianInversionWarning)\n",
      "/home/abhilash/anaconda3/lib/python3.7/site-packages/statsmodels/base/model.py:492: HessianInversionWarning: Inverting hessian failed, no bse or cov_params available\n",
      "  'available', HessianInversionWarning)\n",
      "/home/abhilash/anaconda3/lib/python3.7/site-packages/statsmodels/base/model.py:492: HessianInversionWarning: Inverting hessian failed, no bse or cov_params available\n",
      "  'available', HessianInversionWarning)\n",
      "/home/abhilash/anaconda3/lib/python3.7/site-packages/statsmodels/base/model.py:492: HessianInversionWarning: Inverting hessian failed, no bse or cov_params available\n",
      "  'available', HessianInversionWarning)\n",
      "/home/abhilash/anaconda3/lib/python3.7/site-packages/statsmodels/base/model.py:492: HessianInversionWarning: Inverting hessian failed, no bse or cov_params available\n",
      "  'available', HessianInversionWarning)\n",
      "/home/abhilash/anaconda3/lib/python3.7/site-packages/statsmodels/base/model.py:492: HessianInversionWarning: Inverting hessian failed, no bse or cov_params available\n",
      "  'available', HessianInversionWarning)\n",
      "/home/abhilash/anaconda3/lib/python3.7/site-packages/statsmodels/base/model.py:492: HessianInversionWarning: Inverting hessian failed, no bse or cov_params available\n",
      "  'available', HessianInversionWarning)\n",
      "/home/abhilash/anaconda3/lib/python3.7/site-packages/statsmodels/base/model.py:492: HessianInversionWarning: Inverting hessian failed, no bse or cov_params available\n",
      "  'available', HessianInversionWarning)\n",
      "/home/abhilash/anaconda3/lib/python3.7/site-packages/statsmodels/base/model.py:492: HessianInversionWarning: Inverting hessian failed, no bse or cov_params available\n",
      "  'available', HessianInversionWarning)\n",
      "/home/abhilash/anaconda3/lib/python3.7/site-packages/statsmodels/base/model.py:492: HessianInversionWarning: Inverting hessian failed, no bse or cov_params available\n",
      "  'available', HessianInversionWarning)\n",
      "/home/abhilash/anaconda3/lib/python3.7/site-packages/statsmodels/base/model.py:492: HessianInversionWarning: Inverting hessian failed, no bse or cov_params available\n",
      "  'available', HessianInversionWarning)\n",
      "/home/abhilash/anaconda3/lib/python3.7/site-packages/statsmodels/base/model.py:492: HessianInversionWarning: Inverting hessian failed, no bse or cov_params available\n",
      "  'available', HessianInversionWarning)\n",
      "/home/abhilash/anaconda3/lib/python3.7/site-packages/statsmodels/base/model.py:492: HessianInversionWarning: Inverting hessian failed, no bse or cov_params available\n",
      "  'available', HessianInversionWarning)\n",
      "/home/abhilash/anaconda3/lib/python3.7/site-packages/statsmodels/base/model.py:492: HessianInversionWarning: Inverting hessian failed, no bse or cov_params available\n",
      "  'available', HessianInversionWarning)\n",
      "/home/abhilash/anaconda3/lib/python3.7/site-packages/statsmodels/base/model.py:492: HessianInversionWarning: Inverting hessian failed, no bse or cov_params available\n",
      "  'available', HessianInversionWarning)\n",
      "/home/abhilash/anaconda3/lib/python3.7/site-packages/statsmodels/base/model.py:492: HessianInversionWarning: Inverting hessian failed, no bse or cov_params available\n",
      "  'available', HessianInversionWarning)\n",
      "/home/abhilash/anaconda3/lib/python3.7/site-packages/statsmodels/base/model.py:492: HessianInversionWarning: Inverting hessian failed, no bse or cov_params available\n",
      "  'available', HessianInversionWarning)\n",
      "/home/abhilash/anaconda3/lib/python3.7/site-packages/statsmodels/base/model.py:492: HessianInversionWarning: Inverting hessian failed, no bse or cov_params available\n",
      "  'available', HessianInversionWarning)\n",
      "/home/abhilash/anaconda3/lib/python3.7/site-packages/statsmodels/base/model.py:492: HessianInversionWarning: Inverting hessian failed, no bse or cov_params available\n",
      "  'available', HessianInversionWarning)\n",
      "/home/abhilash/anaconda3/lib/python3.7/site-packages/statsmodels/base/model.py:492: HessianInversionWarning: Inverting hessian failed, no bse or cov_params available\n",
      "  'available', HessianInversionWarning)\n",
      "/home/abhilash/anaconda3/lib/python3.7/site-packages/statsmodels/base/model.py:492: HessianInversionWarning: Inverting hessian failed, no bse or cov_params available\n",
      "  'available', HessianInversionWarning)\n",
      "/home/abhilash/anaconda3/lib/python3.7/site-packages/statsmodels/base/model.py:492: HessianInversionWarning: Inverting hessian failed, no bse or cov_params available\n",
      "  'available', HessianInversionWarning)\n",
      "/home/abhilash/anaconda3/lib/python3.7/site-packages/statsmodels/base/model.py:492: HessianInversionWarning: Inverting hessian failed, no bse or cov_params available\n",
      "  'available', HessianInversionWarning)\n",
      "/home/abhilash/anaconda3/lib/python3.7/site-packages/statsmodels/base/model.py:492: HessianInversionWarning: Inverting hessian failed, no bse or cov_params available\n",
      "  'available', HessianInversionWarning)\n",
      "/home/abhilash/anaconda3/lib/python3.7/site-packages/statsmodels/base/model.py:492: HessianInversionWarning: Inverting hessian failed, no bse or cov_params available\n",
      "  'available', HessianInversionWarning)\n",
      "/home/abhilash/anaconda3/lib/python3.7/site-packages/statsmodels/base/model.py:492: HessianInversionWarning: Inverting hessian failed, no bse or cov_params available\n",
      "  'available', HessianInversionWarning)\n",
      "/home/abhilash/anaconda3/lib/python3.7/site-packages/statsmodels/base/model.py:492: HessianInversionWarning: Inverting hessian failed, no bse or cov_params available\n",
      "  'available', HessianInversionWarning)\n",
      "/home/abhilash/anaconda3/lib/python3.7/site-packages/statsmodels/base/model.py:492: HessianInversionWarning: Inverting hessian failed, no bse or cov_params available\n",
      "  'available', HessianInversionWarning)\n",
      "/home/abhilash/anaconda3/lib/python3.7/site-packages/statsmodels/base/model.py:492: HessianInversionWarning: Inverting hessian failed, no bse or cov_params available\n",
      "  'available', HessianInversionWarning)\n",
      "/home/abhilash/anaconda3/lib/python3.7/site-packages/statsmodels/base/model.py:492: HessianInversionWarning: Inverting hessian failed, no bse or cov_params available\n",
      "  'available', HessianInversionWarning)\n",
      "/home/abhilash/anaconda3/lib/python3.7/site-packages/statsmodels/base/model.py:492: HessianInversionWarning: Inverting hessian failed, no bse or cov_params available\n",
      "  'available', HessianInversionWarning)\n",
      "/home/abhilash/anaconda3/lib/python3.7/site-packages/statsmodels/base/model.py:492: HessianInversionWarning: Inverting hessian failed, no bse or cov_params available\n",
      "  'available', HessianInversionWarning)\n",
      "/home/abhilash/anaconda3/lib/python3.7/site-packages/statsmodels/base/model.py:492: HessianInversionWarning: Inverting hessian failed, no bse or cov_params available\n",
      "  'available', HessianInversionWarning)\n",
      "/home/abhilash/anaconda3/lib/python3.7/site-packages/statsmodels/base/model.py:492: HessianInversionWarning: Inverting hessian failed, no bse or cov_params available\n",
      "  'available', HessianInversionWarning)\n",
      "/home/abhilash/anaconda3/lib/python3.7/site-packages/statsmodels/base/model.py:492: HessianInversionWarning: Inverting hessian failed, no bse or cov_params available\n",
      "  'available', HessianInversionWarning)\n",
      "/home/abhilash/anaconda3/lib/python3.7/site-packages/statsmodels/base/model.py:492: HessianInversionWarning: Inverting hessian failed, no bse or cov_params available\n",
      "  'available', HessianInversionWarning)\n",
      "/home/abhilash/anaconda3/lib/python3.7/site-packages/statsmodels/base/model.py:492: HessianInversionWarning: Inverting hessian failed, no bse or cov_params available\n",
      "  'available', HessianInversionWarning)\n",
      "/home/abhilash/anaconda3/lib/python3.7/site-packages/statsmodels/base/model.py:492: HessianInversionWarning: Inverting hessian failed, no bse or cov_params available\n",
      "  'available', HessianInversionWarning)\n",
      "/home/abhilash/anaconda3/lib/python3.7/site-packages/statsmodels/base/model.py:512: ConvergenceWarning: Maximum Likelihood optimization failed to converge. Check mle_retvals\n",
      "  \"Check mle_retvals\", ConvergenceWarning)\n"
     ]
    }
   ],
   "source": [
    "for val in valid_list:\n",
    "    forecast_model(val[0],val[1],val[2])"
   ]
  },
  {
   "cell_type": "code",
   "execution_count": 15,
   "metadata": {},
   "outputs": [
    {
     "data": {
      "text/plain": [
       "[0.004717542492775101,\n",
       " 0.003996631655435098,\n",
       " 0.0027380915253024402,\n",
       " 0.003172196301251046,\n",
       " 0.004543557050719765,\n",
       " 0.0038550174605030073,\n",
       " 0.0026735979336141484,\n",
       " 0.0031442992291838825,\n",
       " 0.0046936282924203866,\n",
       " 0.003977206884372773,\n",
       " 0.002729200972618824,\n",
       " 0.0031683263780215407,\n",
       " 0.004863411290432565,\n",
       " 0.004115148146702495,\n",
       " 0.0027926367865067497,\n",
       " 0.003196118023848854,\n",
       " 0.004687619548166118,\n",
       " 0.003972309698671974,\n",
       " 0.0027269578005206783,\n",
       " 0.0031673506506058936,\n",
       " 0.004734944158730235,\n",
       " 0.004010755062378641,\n",
       " 0.0027445654402624376,\n",
       " 0.003175022154742402,\n",
       " 0.00459724899380854,\n",
       " 0.0038989110912986714,\n",
       " 0.002693434423300642,\n",
       " 0.0031528336268064495,\n",
       " 0.004787565679322591,\n",
       " 0.004053324455086346,\n",
       " 0.0027639379246748247,\n",
       " 0.003183493263573654,\n",
       " 0.005140580570076079,\n",
       " 0.0043405962744053435,\n",
       " 0.0028977268627223907,\n",
       " 0.0032430124218334098,\n",
       " 0.004884452673425701,\n",
       " 0.004132159459516994,\n",
       " 0.002800485609761698,\n",
       " 0.00319958408907981,\n",
       " 0.004698685351488342,\n",
       " 0.003981325545078555,\n",
       " 0.0027310900954698367,\n",
       " 0.0031691497471956973,\n",
       " 0.004831403502379582,\n",
       " 0.004089161728031577,\n",
       " 0.0027806409643065287,\n",
       " 0.0031908328540946104,\n",
       " 0.004666217884925115,\n",
       " 0.003954987921890094,\n",
       " 0.002719058267846318,\n",
       " 0.0031639213829609196,\n",
       " 0.004773264697768213,\n",
       " 0.0040425330136737115,\n",
       " 0.0027590113752021584,\n",
       " 0.0031813380296408606,\n",
       " 0.004994484081005246,\n",
       " 0.004221557450264427,\n",
       " 0.002842040524310012,\n",
       " 0.003218032466742504,\n",
       " 0.004463991408441352,\n",
       " 0.0037911107554616146,\n",
       " 0.00264481081422057,\n",
       " 0.003131979117004291,\n",
       " 0.004590852939487563,\n",
       " 0.0038938330132945492,\n",
       " 0.0026912127513626237,\n",
       " 0.0031518764747516894,\n",
       " 0.004822000591791526,\n",
       " 0.004081301162396615,\n",
       " 0.0027769907617677197,\n",
       " 0.0031892274370990533,\n",
       " 0.004929433727697519,\n",
       " 0.004168796625868117,\n",
       " 0.0028174315078782564,\n",
       " 0.003207087113238073,\n",
       " 0.004802908392501181,\n",
       " 0.004065365599305985,\n",
       " 0.0027682650770538787,\n",
       " 0.0031851444110261753,\n",
       " 0.004580085897074184,\n",
       " 0.003885121491555732,\n",
       " 0.0026872716589110383,\n",
       " 0.0031501784216782817,\n",
       " 0.004541854590998128,\n",
       " 0.003854128953827617,\n",
       " 0.00267322287414919,\n",
       " 0.003144136594275643,\n",
       " 0.004514169965086506,\n",
       " 0.003831605254243701,\n",
       " 0.0026630689959297117,\n",
       " 0.00313978274565776,\n",
       " 0.004713036307899606,\n",
       " 0.003992762038273077,\n",
       " 0.0027363676228946325,\n",
       " 0.0031714468964865626,\n",
       " 0.005090147671851005,\n",
       " 0.004301223004406134,\n",
       " 0.0028752397182568025,\n",
       " 0.0032328701666044864,\n",
       " 0.004579711573126622,\n",
       " 0.0038846482667867707,\n",
       " 0.002687048527650732,\n",
       " 0.003150081177636383,\n",
       " 0.004695713136518485,\n",
       " 0.003978666017129534,\n",
       " 0.002729790965862729,\n",
       " 0.003168585429478258,\n",
       " 0.004511920855236305,\n",
       " 0.0038297534269738855,\n",
       " 0.002662236376815608,\n",
       " 0.0031394262334480372,\n",
       " 0.004627919462508648,\n",
       " 0.003923912514769907,\n",
       " 0.002704878986146464,\n",
       " 0.003157778025408553,\n",
       " 0.004829111027680301,\n",
       " 0.004091563703263214,\n",
       " 0.0027798677400506138,\n",
       " 0.0031904684236075086,\n",
       " 0.004745165296056263,\n",
       " 0.004018200968412353,\n",
       " 0.002747918846545776,\n",
       " 0.003176486531156818,\n",
       " 0.004714111976933824,\n",
       " 0.003993545566017467,\n",
       " 0.002736666865519642,\n",
       " 0.0031715789808917398,\n",
       " 0.004601762680616512,\n",
       " 0.0039017929935548173,\n",
       " 0.0026948463267565843,\n",
       " 0.003153444587035084,\n",
       " 0.00457687171222661,\n",
       " 0.0038828315010779203,\n",
       " 0.00268618758277866,\n",
       " 0.0031497118160563275,\n",
       " 0.005130167938289201,\n",
       " 0.004339103378585429,\n",
       " 0.002894881539745224,\n",
       " 0.003242153436585614,\n",
       " 0.004689679011911022,\n",
       " 0.003972653924357594,\n",
       " 0.0027269917310726354,\n",
       " 0.0031673686291298552,\n",
       " 0.004859374637483499,\n",
       " 0.00411011977692115,\n",
       " 0.002790031468860345,\n",
       " 0.0031949709944419863,\n",
       " 0.004830489142568579,\n",
       " 0.004087835270607666,\n",
       " 0.002780252832736082,\n",
       " 0.0031906636605826184,\n",
       " 0.004863999833893943,\n",
       " 0.004114641960867037,\n",
       " 0.002792376120224448,\n",
       " 0.0031960049656537515,\n",
       " 0.005078649176301405,\n",
       " 0.004301572931002338,\n",
       " 0.0028784036967260274,\n",
       " 0.0032344741401401367,\n",
       " 0.004624793370803422,\n",
       " 0.003920000794568256,\n",
       " 0.002702955363143747,\n",
       " 0.0031569457691979852,\n",
       " 0.004857433968063906,\n",
       " 0.004108489309987464,\n",
       " 0.002789222733849391,\n",
       " 0.003194614324569288,\n",
       " 0.0048729894018233015,\n",
       " 0.004122342450201692,\n",
       " 0.0027963377555720137,\n",
       " 0.0031977537382837794,\n",
       " 0.004819421596672755,\n",
       " 0.004078367341022272,\n",
       " 0.002775635565102336,\n",
       " 0.0031886330019629144,\n",
       " 0.0051815049687986515,\n",
       " 0.004404062940989224,\n",
       " 0.0029310358633072345,\n",
       " 0.003257508777295674,\n",
       " 0.004549897590198839,\n",
       " 0.0038585592850310943,\n",
       " 0.0026747854431382837,\n",
       " 0.003144807570452061,\n",
       " 0.0047205093965983725,\n",
       " 0.003996608372602996,\n",
       " 0.00273740752643397,\n",
       " 0.0031719001559134914,\n",
       " 0.004623492916974736,\n",
       " 0.003922100059685409,\n",
       " 0.002704395128127571,\n",
       " 0.0031575690483348325,\n",
       " 0.004637438023113204,\n",
       " 0.003931205365114439,\n",
       " 0.002707636385992868,\n",
       " 0.0031589726683492686,\n",
       " 0.00526890589054103,\n",
       " 0.004508700151614149,\n",
       " 0.0029880237534504568,\n",
       " 0.003284023496228065,\n",
       " 0.004401057201202219,\n",
       " 0.00374092933617239,\n",
       " 0.0026221210729208055,\n",
       " 0.003122331266070116,\n",
       " 0.00465096851883197,\n",
       " 0.003940477945768927,\n",
       " 0.0027118457283183037,\n",
       " 0.003160793345573245,\n",
       " 0.004758512357823905,\n",
       " 0.0040351596901247455,\n",
       " 0.0027561097795435925,\n",
       " 0.003180067239245225,\n",
       " 0.004619064213604768,\n",
       " 0.003916928896076969,\n",
       " 0.002701138633824782,\n",
       " 0.003156160412703675,\n",
       " 0.005247467863928628,\n",
       " 0.004481034202416181,\n",
       " 0.0029731424040234794,\n",
       " 0.003277481412691599,\n",
       " 0.004741489674578779,\n",
       " 0.0040124399294358785,\n",
       " 0.0027446408984356943,\n",
       " 0.003175055718422731,\n",
       " 0.0046264203639575195,\n",
       " 0.003921191283707639,\n",
       " 0.002703100657861847,\n",
       " 0.0031570086951988024,\n",
       " 0.004985256269767139,\n",
       " 0.004215602235130828,\n",
       " 0.0028388984273008473,\n",
       " 0.0032166324959190355,\n",
       " 0.004703319896104269,\n",
       " 0.003984465104544848,\n",
       " 0.002731922648377345,\n",
       " 0.003169511321440148,\n",
       " 0.005338458889231746,\n",
       " 0.004568143022194014,\n",
       " 0.003018045040139476,\n",
       " 0.003298257706968949]"
      ]
     },
     "execution_count": 15,
     "metadata": {},
     "output_type": "execute_result"
    }
   ],
   "source": [
    "rmse_accuracy"
   ]
  },
  {
   "cell_type": "code",
   "execution_count": 16,
   "metadata": {},
   "outputs": [
    {
     "data": {
      "text/plain": [
       "[1.0966727115165311,\n",
       " 1.0666883010701227,\n",
       " 1.0212481781797997,\n",
       " 1.0110356334547645,\n",
       " 0.8416601551132178,\n",
       " 0.8868405739600301,\n",
       " 0.9647584302148201,\n",
       " 0.9825186627727391,\n",
       " 1.1148276216282103,\n",
       " 1.079782585606343,\n",
       " 1.0253582549292508,\n",
       " 1.0131130506101644,\n",
       " 1.0494353489978754,\n",
       " 1.0320125430552896,\n",
       " 1.0103754021040605,\n",
       " 1.0055483846937285,\n",
       " 1.0419012058066535,\n",
       " 1.0303058911316643,\n",
       " 1.0098355322974242,\n",
       " 1.005274329574825,\n",
       " 0.9920045610167768,\n",
       " 0.994731511338168,\n",
       " 0.9986777116396016,\n",
       " 0.9996426196172687,\n",
       " 1.0716094801101654,\n",
       " 1.0531761625634002,\n",
       " 1.0170743780965728,\n",
       " 1.0089314260883786,\n",
       " 1.006048079269531,\n",
       " 1.0078716571086506,\n",
       " 1.0029408258180523,\n",
       " 1.0018049011562584,\n",
       " 1.1688819872885297,\n",
       " 1.1165388542528838,\n",
       " 1.0368895736485977,\n",
       " 1.0189362505176502,\n",
       " 1.1049334237644086,\n",
       " 1.06365622791479,\n",
       " 1.0202437738445411,\n",
       " 1.0105316829441622,\n",
       " 0.9753021688448809,\n",
       " 0.9831672578858534,\n",
       " 0.9950505214697447,\n",
       " 0.9978119164519476,\n",
       " 1.0174330558130686,\n",
       " 1.0096390751457354,\n",
       " 1.0033559573414237,\n",
       " 1.0020047568113821,\n",
       " 0.9841395904276666,\n",
       " 0.9892691478455906,\n",
       " 0.9969650757623706,\n",
       " 0.9987788624861959,\n",
       " 1.008214098694471,\n",
       " 0.9865735405870919,\n",
       " 0.995349669300905,\n",
       " 0.9979621367389284,\n",
       " 1.0973170273810737,\n",
       " 1.0593099507543882,\n",
       " 1.0190283306502166,\n",
       " 1.009916917529796,\n",
       " 0.9583367963405507,\n",
       " 0.9714738979183279,\n",
       " 0.9913799926884517,\n",
       " 0.9959566269188711,\n",
       " 0.9914495962733281,\n",
       " 0.9953913436899002,\n",
       " 0.9988883376062155,\n",
       " 0.9997495725602898,\n",
       " 1.0720663138579647,\n",
       " 1.0371532385095756,\n",
       " 1.0118702837080082,\n",
       " 1.0063043672133485,\n",
       " 1.1310525333570116,\n",
       " 1.0867776603250203,\n",
       " 1.0277162592176199,\n",
       " 1.0143042715067523,\n",
       " 1.147199989462739,\n",
       " 1.1146950010603658,\n",
       " 1.0373043977120875,\n",
       " 1.019582503724815,\n",
       " 0.9298922547282241,\n",
       " 0.9515897559240318,\n",
       " 0.9851431667837848,\n",
       " 0.9928096055337027,\n",
       " 0.9847728915515866,\n",
       " 0.9906232630456625,\n",
       " 0.9973926151504587,\n",
       " 0.9989943454530008,\n",
       " 0.9917421728399625,\n",
       " 0.9979857890595277,\n",
       " 0.9997235359610424,\n",
       " 1.0001716469851798,\n",
       " 1.199644575158955,\n",
       " 1.1212636821773798,\n",
       " 1.0386243578142973,\n",
       " 1.0198131150428895,\n",
       " 1.3783359838743316,\n",
       " 1.3867826250591806,\n",
       " 1.115737706207951,\n",
       " 1.0587574745823596,\n",
       " 0.9384322695112818,\n",
       " 0.9572436210425285,\n",
       " 0.9869009287906114,\n",
       " 0.9936950928413584,\n",
       " 0.9232387738715225,\n",
       " 0.9513756098252126,\n",
       " 0.9851179063685319,\n",
       " 0.9927982361229711,\n",
       " 0.9792838394816684,\n",
       " 0.9897087105568376,\n",
       " 0.9971277476255038,\n",
       " 0.9988609937265458,\n",
       " 0.9917398374622938,\n",
       " 0.9966082757449756,\n",
       " 0.9992678990914292,\n",
       " 0.9999410990774118,\n",
       " 1.4966643467411116,\n",
       " 1.4814557144350518,\n",
       " 1.1438764658391272,\n",
       " 1.0731385779010034,\n",
       " 1.1617009327622556,\n",
       " 1.1036498507885595,\n",
       " 1.0327366856220208,\n",
       " 1.0168408777593485,\n",
       " 0.9121288914422045,\n",
       " 0.9385798422995821,\n",
       " 0.9810435855702767,\n",
       " 0.9907408555224325,\n",
       " 1.0426636153090796,\n",
       " 1.029461485782769,\n",
       " 1.0095127869931388,\n",
       " 1.005115931274926,\n",
       " 0.994047724800371,\n",
       " 1.0002062595332468,\n",
       " 1.0003889740500453,\n",
       " 1.000508539098456,\n",
       " 1.4519869685806925,\n",
       " 1.4923236465760583,\n",
       " 1.1696065148577242,\n",
       " 1.0891749849695407,\n",
       " 0.9648452224401826,\n",
       " 0.9662977479957805,\n",
       " 0.9895058441811743,\n",
       " 0.995014846417198,\n",
       " 1.063834959619675,\n",
       " 1.0477355505297583,\n",
       " 1.0152785088458776,\n",
       " 1.0080285922348255,\n",
       " 1.2602623603286076,\n",
       " 1.2284906133748503,\n",
       " 1.0725985796314015,\n",
       " 1.0369718365476221,\n",
       " 1.1012912740709924,\n",
       " 1.039449210851525,\n",
       " 1.0133898413967486,\n",
       " 1.0070741960733536,\n",
       " 1.521946604952832,\n",
       " 1.6325449333707251,\n",
       " 1.211095262832573,\n",
       " 1.1081193873468969,\n",
       " 1.0443020195838042,\n",
       " 1.0215162885167455,\n",
       " 1.0067890582655576,\n",
       " 1.0037381321969086,\n",
       " 1.0667920366016233,\n",
       " 1.051165278100134,\n",
       " 1.0163911802949124,\n",
       " 1.0085906261274242,\n",
       " 1.2919636340359135,\n",
       " 1.2707913259924681,\n",
       " 1.0858502699345907,\n",
       " 1.0436635193918349,\n",
       " 1.0847467523684289,\n",
       " 1.0267576550574442,\n",
       " 1.0093910329833264,\n",
       " 1.0050549830706383,\n",
       " 1.6685582745948067,\n",
       " 1.8868159409885357,\n",
       " 1.3228689952825812,\n",
       " 1.1613429902991084,\n",
       " 0.9667970459099202,\n",
       " 0.9561777776258845,\n",
       " 0.9859690985757209,\n",
       " 0.9932260447002064,\n",
       " 1.2333908600764771,\n",
       " 1.1779206694986062,\n",
       " 1.0553837118291352,\n",
       " 1.0282767105344626,\n",
       " 1.2427002374088045,\n",
       " 1.3327775794375238,\n",
       " 1.103254310712692,\n",
       " 1.0524496344505603,\n",
       " 1.0895985892261866,\n",
       " 1.1181920191983914,\n",
       " 1.036624188903501,\n",
       " 1.0188074017549387,\n",
       " 1.6612351101221294,\n",
       " 1.9742909755708165,\n",
       " 1.3546698810799513,\n",
       " 1.1787702379128793,\n",
       " 1.0124488978202757,\n",
       " 1.0511009280429944,\n",
       " 1.0157112968054225,\n",
       " 1.0082437926354861,\n",
       " 1.1721841107164477,\n",
       " 1.1362343625909237,\n",
       " 1.042229030046746,\n",
       " 1.0216338706022607,\n",
       " 1.1091216637228198,\n",
       " 1.2833985815676585,\n",
       " 1.088881595810396,\n",
       " 1.0451902002388969,\n",
       " 1.1317822172986352,\n",
       " 1.1585593208472056,\n",
       " 1.0492791617919741,\n",
       " 1.0251935123078677,\n",
       " 1.66654158832497,\n",
       " 1.953750124216604,\n",
       " 1.3333391765238032,\n",
       " 1.1697284490334907,\n",
       " 1.3126254054617739,\n",
       " 1.3406841083375927,\n",
       " 1.1032801025371213,\n",
       " 1.0524627949281355,\n",
       " 1.1845825230086604,\n",
       " 1.1604585662801528,\n",
       " 1.049573031939327,\n",
       " 1.025342342704928,\n",
       " 1.3351085310656845,\n",
       " 1.3750902285666144,\n",
       " 1.11761108514256,\n",
       " 1.059697910490724,\n",
       " 1.2619043729282018,\n",
       " 1.2497689896658495,\n",
       " 1.0772158299507615,\n",
       " 1.0393001692201462,\n",
       " 1.7829655351483267,\n",
       " 2.0771903680624613,\n",
       " 1.3971382786562974,\n",
       " 1.2026923613374034]"
      ]
     },
     "execution_count": 16,
     "metadata": {},
     "output_type": "execute_result"
    }
   ],
   "source": [
    "mape"
   ]
  },
  {
   "cell_type": "code",
   "execution_count": 18,
   "metadata": {},
   "outputs": [],
   "source": [
    "maximum=np.amax(rmse_accuracy)"
   ]
  },
  {
   "cell_type": "code",
   "execution_count": 25,
   "metadata": {},
   "outputs": [
    {
     "name": "stdout",
     "output_type": "stream",
     "text": [
      "236\n"
     ]
    }
   ],
   "source": [
    "ind=0\n",
    "for i in range(0,len(rmse_accuracy)):\n",
    "    if rmse_accuracy[i] == maximum:\n",
    "        ind=i\n",
    "        break"
   ]
  },
  {
   "cell_type": "code",
   "execution_count": 29,
   "metadata": {},
   "outputs": [
    {
     "data": {
      "text/plain": [
       "[12, 1, 5]"
      ]
     },
     "execution_count": 29,
     "metadata": {},
     "output_type": "execute_result"
    }
   ],
   "source": [
    "valid_list[59]"
   ]
  },
  {
   "cell_type": "code",
   "execution_count": 30,
   "metadata": {},
   "outputs": [
    {
     "data": {
      "text/plain": [
       "1.7829655351483267"
      ]
     },
     "execution_count": 30,
     "metadata": {},
     "output_type": "execute_result"
    }
   ],
   "source": [
    "mape[ind]"
   ]
  },
  {
   "cell_type": "code",
   "execution_count": 37,
   "metadata": {},
   "outputs": [],
   "source": [
    "np.save(\"AlibabaAzure_predicted\",predicted[236])"
   ]
  },
  {
   "cell_type": "code",
   "execution_count": 38,
   "metadata": {},
   "outputs": [
    {
     "data": {
      "text/plain": [
       "array([ 0.02254682, -0.00103423,  0.00112826, -0.00068199,  0.00088604,\n",
       "        0.00146956, -0.00282301,  0.00305271, -0.00237031,  0.0020025 ,\n",
       "        0.00030904])"
      ]
     },
     "execution_count": 38,
     "metadata": {},
     "output_type": "execute_result"
    }
   ],
   "source": [
    "predicted[236]"
   ]
  }
 ],
 "metadata": {
  "kernelspec": {
   "display_name": "Python 3",
   "language": "python",
   "name": "python3"
  },
  "language_info": {
   "codemirror_mode": {
    "name": "ipython",
    "version": 3
   },
   "file_extension": ".py",
   "mimetype": "text/x-python",
   "name": "python",
   "nbconvert_exporter": "python",
   "pygments_lexer": "ipython3",
   "version": "3.7.4"
  }
 },
 "nbformat": 4,
 "nbformat_minor": 2
}
